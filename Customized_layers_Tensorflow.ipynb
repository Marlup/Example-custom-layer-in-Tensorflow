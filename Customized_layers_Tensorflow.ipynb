{
  "nbformat": 4,
  "nbformat_minor": 0,
  "metadata": {
    "colab": {
      "provenance": []
    },
    "kernelspec": {
      "name": "python3",
      "display_name": "Python 3"
    },
    "language_info": {
      "name": "python"
    }
  },
  "cells": [
    {
      "cell_type": "markdown",
      "source": [
        "# Customized Layer"
      ],
      "metadata": {
        "id": "AgPTr4Uh4ksu"
      }
    },
    {
      "cell_type": "markdown",
      "source": [
        "Let's build a Tensorflow Keras layer in which a standard activation outputs from linear combinations of inputs with weights and biases (first output), is multiplied to a vector of weights called 'adapter' (second output).\n",
        "\n",
        "This new vector may variate the importance of the first output towards the next layers"
      ],
      "metadata": {
        "id": "wxkjTe2C4qbG"
      }
    },
    {
      "cell_type": "code",
      "metadata": {
        "id": "jEwM25tscEH7"
      },
      "source": [
        "from sklearn.datasets import make_regression\n",
        "from sklearn.model_selection import train_test_split\n",
        "import tensorflow as tf\n",
        "from tensorflow import keras\n",
        "from keras import layers, activations, losses\n",
        "import pandas as pd\n",
        "from matplotlib import pyplot as plt"
      ],
      "execution_count": 21,
      "outputs": []
    },
    {
      "cell_type": "markdown",
      "source": [
        "Example data"
      ],
      "metadata": {
        "id": "5GRDM2gs7pGH"
      }
    },
    {
      "cell_type": "code",
      "metadata": {
        "id": "LGiRNKzWclyV"
      },
      "source": [
        "m = 10000\n",
        "p = 4\n",
        "random_state = 117\n",
        "X, y = make_regression(m , p, n_informative=3, n_targets=1, bias=1.0, random_state=random_state)"
      ],
      "execution_count": 2,
      "outputs": []
    },
    {
      "cell_type": "markdown",
      "source": [
        "Setup the class layer with adapter. First, in the build() method, a new weight is setup and called the adapter. Lastly, in the call() method, the adapter weight is simply multiplied to the activation output."
      ],
      "metadata": {
        "id": "zT6K3hGd7r7b"
      }
    },
    {
      "cell_type": "code",
      "metadata": {
        "id": "udTLVxMEfRhB"
      },
      "source": [
        "class AdaptiveActivation(layers.Layer):\n",
        "  def __init__ (self, units=32, input_dim=32):\n",
        "    super(AdaptiveActivation, self).__init__()\n",
        "    self.units = units\n",
        "    self.adapter = None\n",
        "  def build(self, input_shape):\n",
        "    # Weights setup\n",
        "    self.w = self.add_weight(shape=(input_shape[-1], self.units),\n",
        "                             initializer=\"random_normal\",\n",
        "                             trainable=True,\n",
        "                             name='weights',\n",
        "                             )\n",
        "    # Biases setup\n",
        "    self.b = self.add_weight(shape=(self.units,),\n",
        "                             initializer=tf.zeros_initializer(),\n",
        "                             trainable=True,\n",
        "                             name='bias',\n",
        "                             )\n",
        "    # Adapter setup\n",
        "    self.adapter = self.add_weight(shape=(self.units,),\n",
        "                                   initializer=tf.random_normal_initializer(),\n",
        "                                   trainable=True,\n",
        "                                   name='adapters',\n",
        "                                   )\n",
        "  def call(self, inputs):\n",
        "    output_linear = tf.matmul(inputs, self.w) + self.b\n",
        "    return self.adapter * activations.relu(output_linear)"
      ],
      "execution_count": 32,
      "outputs": []
    },
    {
      "cell_type": "code",
      "metadata": {
        "id": "siZnIgdAjnpz"
      },
      "source": [
        "Çx = tf.ones((2, 2))\n",
        "customActivation_layer = AdaptiveActivation(32)\n",
        "out = customActivation_layer(x)"
      ],
      "execution_count": 4,
      "outputs": []
    },
    {
      "cell_type": "markdown",
      "metadata": {
        "id": "9kjtjvq3llcH"
      },
      "source": [
        "Define custom model"
      ]
    },
    {
      "cell_type": "code",
      "metadata": {
        "id": "ozmXKcZwhUcJ"
      },
      "source": [
        "model_adaptive = keras.Sequential()\n",
        "model_adaptive.add(keras.Input(shape=(p, )))\n",
        "model_adaptive.add(AdaptiveActivation(16))\n",
        "model_adaptive.add(layers.Dense(1, activation='linear'))"
      ],
      "execution_count": 36,
      "outputs": []
    },
    {
      "cell_type": "code",
      "metadata": {
        "colab": {
          "base_uri": "https://localhost:8080/"
        },
        "id": "52_m4gNdlreX",
        "outputId": "9f0e66e6-5a54-465f-9000-cd1aac48a688"
      },
      "source": [
        "model_adaptive.summary()"
      ],
      "execution_count": 6,
      "outputs": [
        {
          "output_type": "stream",
          "name": "stdout",
          "text": [
            "Model: \"sequential\"\n",
            "_________________________________________________________________\n",
            " Layer (type)                Output Shape              Param #   \n",
            "=================================================================\n",
            " adaptive_activation_1 (Adap  (None, 16)               96        \n",
            " tiveActivation)                                                 \n",
            "                                                                 \n",
            " dense (Dense)               (None, 1)                 17        \n",
            "                                                                 \n",
            "=================================================================\n",
            "Total params: 113\n",
            "Trainable params: 113\n",
            "Non-trainable params: 0\n",
            "_________________________________________________________________\n"
          ]
        }
      ]
    },
    {
      "cell_type": "markdown",
      "metadata": {
        "id": "Y9MvZBDJlf6T"
      },
      "source": [
        "Define base model for comparing"
      ]
    },
    {
      "cell_type": "code",
      "metadata": {
        "id": "HOUEZpwolan4"
      },
      "source": [
        "model_base = keras.Sequential()\n",
        "model_base.add(keras.Input(shape=(p, )))\n",
        "model_base.add(layers.Dense(16, activation='relu'))\n",
        "model_base.add(layers.Dense(1, activation='linear'))"
      ],
      "execution_count": 37,
      "outputs": []
    },
    {
      "cell_type": "code",
      "metadata": {
        "colab": {
          "base_uri": "https://localhost:8080/"
        },
        "id": "dJ6qcX7fhnXo",
        "outputId": "718bfb5f-50f4-4124-84d6-d8ff2c257243"
      },
      "source": [
        "model_base.summary()"
      ],
      "execution_count": 8,
      "outputs": [
        {
          "output_type": "stream",
          "name": "stdout",
          "text": [
            "Model: \"sequential_1\"\n",
            "_________________________________________________________________\n",
            " Layer (type)                Output Shape              Param #   \n",
            "=================================================================\n",
            " dense_1 (Dense)             (None, 16)                80        \n",
            "                                                                 \n",
            " dense_2 (Dense)             (None, 1)                 17        \n",
            "                                                                 \n",
            "=================================================================\n",
            "Total params: 97\n",
            "Trainable params: 97\n",
            "Non-trainable params: 0\n",
            "_________________________________________________________________\n"
          ]
        }
      ]
    },
    {
      "cell_type": "code",
      "metadata": {
        "id": "Rj3D06Sxk7h4"
      },
      "source": [
        "X_train, X_test, y_train, y_test = train_test_split(X,\n",
        "                                                    y,\n",
        "                                                    test_size=0.1,\n",
        "                                                    random_state=random_state)"
      ],
      "execution_count": 10,
      "outputs": []
    },
    {
      "cell_type": "code",
      "metadata": {
        "colab": {
          "base_uri": "https://localhost:8080/"
        },
        "id": "Ascu3N-ToQaj",
        "outputId": "bf9c0e9e-4e92-4130-87bb-453dc5e17d3e"
      },
      "source": [
        "X_train.shape, y_train.shape, X_test.shape, y_test.shape"
      ],
      "execution_count": 11,
      "outputs": [
        {
          "output_type": "execute_result",
          "data": {
            "text/plain": [
              "((9000, 4), (9000,), (1000, 4), (1000,))"
            ]
          },
          "metadata": {},
          "execution_count": 11
        }
      ]
    },
    {
      "cell_type": "code",
      "metadata": {
        "id": "xUHwt3hImEeb"
      },
      "source": [
        "model_adaptive.compile(optimizer='rmsprop', loss=losses.mse, metrics=losses.mae)\n",
        "model_base.compile(optimizer='rmsprop', loss=losses.mse, metrics=losses.mae)"
      ],
      "execution_count": 38,
      "outputs": []
    },
    {
      "cell_type": "code",
      "metadata": {
        "id": "s6H9qoiWpYZY"
      },
      "source": [
        "callback = keras.callbacks.EarlyStopping(monitor='val_loss', min_delta=0.1, patience=10, verbose=0)"
      ],
      "execution_count": 13,
      "outputs": []
    },
    {
      "cell_type": "code",
      "source": [
        "epochs = 100"
      ],
      "metadata": {
        "id": "t6lWJXy9-4R7"
      },
      "execution_count": 14,
      "outputs": []
    },
    {
      "cell_type": "code",
      "source": [
        "import time"
      ],
      "metadata": {
        "id": "ikqC5xwj8-8a"
      },
      "execution_count": 33,
      "outputs": []
    },
    {
      "cell_type": "code",
      "metadata": {
        "colab": {
          "base_uri": "https://localhost:8080/"
        },
        "id": "ImByrq-rmW5J",
        "outputId": "b97b6c13-f9f6-4df2-b5d7-b61f449a7956"
      },
      "source": [
        "start_time = time.time()\n",
        "h_adaptive = model_adaptive.fit(X_train, y_train,\n",
        "                   epochs=epochs,\n",
        "                   batch_size=64,\n",
        "                   validation_split=0.1,\n",
        "                   verbose=2,\n",
        "                   callbacks=[callback]\n",
        "                   )\n",
        "print(\"time taken:\", time.time() - start_time)"
      ],
      "execution_count": 39,
      "outputs": [
        {
          "output_type": "stream",
          "name": "stdout",
          "text": [
            "Epoch 1/100\n",
            "127/127 - 1s - loss: 16628.6426 - mean_absolute_error: 103.0602 - val_loss: 16131.6592 - val_mean_absolute_error: 100.9653 - 718ms/epoch - 6ms/step\n",
            "Epoch 2/100\n",
            "127/127 - 0s - loss: 16508.0137 - mean_absolute_error: 102.6542 - val_loss: 15940.2666 - val_mean_absolute_error: 100.3137 - 193ms/epoch - 2ms/step\n",
            "Epoch 3/100\n",
            "127/127 - 0s - loss: 16224.1055 - mean_absolute_error: 101.7003 - val_loss: 15566.4863 - val_mean_absolute_error: 99.0312 - 193ms/epoch - 2ms/step\n",
            "Epoch 4/100\n",
            "127/127 - 0s - loss: 15731.7197 - mean_absolute_error: 100.0326 - val_loss: 14966.5010 - val_mean_absolute_error: 96.9384 - 239ms/epoch - 2ms/step\n",
            "Epoch 5/100\n",
            "127/127 - 0s - loss: 15010.9053 - mean_absolute_error: 97.5115 - val_loss: 14114.7871 - val_mean_absolute_error: 93.8888 - 191ms/epoch - 2ms/step\n",
            "Epoch 6/100\n",
            "127/127 - 0s - loss: 14002.2197 - mean_absolute_error: 93.9012 - val_loss: 12977.7725 - val_mean_absolute_error: 89.6764 - 247ms/epoch - 2ms/step\n",
            "Epoch 7/100\n",
            "127/127 - 0s - loss: 12724.9600 - mean_absolute_error: 89.1193 - val_loss: 11585.3311 - val_mean_absolute_error: 84.2463 - 199ms/epoch - 2ms/step\n",
            "Epoch 8/100\n",
            "127/127 - 0s - loss: 11180.5107 - mean_absolute_error: 83.0348 - val_loss: 9953.9824 - val_mean_absolute_error: 77.4222 - 201ms/epoch - 2ms/step\n",
            "Epoch 9/100\n",
            "127/127 - 0s - loss: 9413.8350 - mean_absolute_error: 75.4925 - val_loss: 8128.7910 - val_mean_absolute_error: 69.1138 - 195ms/epoch - 2ms/step\n",
            "Epoch 10/100\n",
            "127/127 - 0s - loss: 7479.8950 - mean_absolute_error: 66.4499 - val_loss: 6215.4727 - val_mean_absolute_error: 59.3886 - 197ms/epoch - 2ms/step\n",
            "Epoch 11/100\n",
            "127/127 - 0s - loss: 5510.8618 - mean_absolute_error: 56.0231 - val_loss: 4334.3643 - val_mean_absolute_error: 48.4195 - 203ms/epoch - 2ms/step\n",
            "Epoch 12/100\n",
            "127/127 - 0s - loss: 3668.1802 - mean_absolute_error: 44.3268 - val_loss: 2678.7761 - val_mean_absolute_error: 36.8567 - 189ms/epoch - 1ms/step\n",
            "Epoch 13/100\n",
            "127/127 - 0s - loss: 2133.9690 - mean_absolute_error: 32.2367 - val_loss: 1402.7246 - val_mean_absolute_error: 25.6260 - 195ms/epoch - 2ms/step\n",
            "Epoch 14/100\n",
            "127/127 - 0s - loss: 1047.4199 - mean_absolute_error: 21.7869 - val_loss: 662.5978 - val_mean_absolute_error: 17.6294 - 198ms/epoch - 2ms/step\n",
            "Epoch 15/100\n",
            "127/127 - 0s - loss: 519.6564 - mean_absolute_error: 16.0125 - val_loss: 399.7139 - val_mean_absolute_error: 15.1013 - 199ms/epoch - 2ms/step\n",
            "Epoch 16/100\n",
            "127/127 - 0s - loss: 374.5475 - mean_absolute_error: 15.1015 - val_loss: 374.6049 - val_mean_absolute_error: 15.3967 - 202ms/epoch - 2ms/step\n",
            "Epoch 17/100\n",
            "127/127 - 0s - loss: 359.7823 - mean_absolute_error: 15.0978 - val_loss: 371.7029 - val_mean_absolute_error: 15.3133 - 198ms/epoch - 2ms/step\n",
            "Epoch 18/100\n",
            "127/127 - 0s - loss: 355.6568 - mean_absolute_error: 15.0055 - val_loss: 369.7386 - val_mean_absolute_error: 15.4408 - 202ms/epoch - 2ms/step\n",
            "Epoch 19/100\n",
            "127/127 - 0s - loss: 353.3617 - mean_absolute_error: 15.0042 - val_loss: 369.0474 - val_mean_absolute_error: 15.3983 - 187ms/epoch - 1ms/step\n",
            "Epoch 20/100\n",
            "127/127 - 0s - loss: 351.6528 - mean_absolute_error: 14.9585 - val_loss: 366.6429 - val_mean_absolute_error: 15.3377 - 194ms/epoch - 2ms/step\n",
            "Epoch 21/100\n",
            "127/127 - 0s - loss: 349.6338 - mean_absolute_error: 14.9250 - val_loss: 363.3735 - val_mean_absolute_error: 15.3493 - 206ms/epoch - 2ms/step\n",
            "Epoch 22/100\n",
            "127/127 - 0s - loss: 347.6549 - mean_absolute_error: 14.9059 - val_loss: 362.0516 - val_mean_absolute_error: 15.2525 - 195ms/epoch - 2ms/step\n",
            "Epoch 23/100\n",
            "127/127 - 0s - loss: 344.3056 - mean_absolute_error: 14.8533 - val_loss: 358.1703 - val_mean_absolute_error: 15.0650 - 190ms/epoch - 1ms/step\n",
            "Epoch 24/100\n",
            "127/127 - 0s - loss: 341.1543 - mean_absolute_error: 14.7361 - val_loss: 357.2888 - val_mean_absolute_error: 15.1671 - 186ms/epoch - 1ms/step\n",
            "Epoch 25/100\n",
            "127/127 - 0s - loss: 336.9126 - mean_absolute_error: 14.6982 - val_loss: 352.6198 - val_mean_absolute_error: 14.9680 - 190ms/epoch - 1ms/step\n",
            "Epoch 26/100\n",
            "127/127 - 0s - loss: 331.7531 - mean_absolute_error: 14.5543 - val_loss: 344.2692 - val_mean_absolute_error: 14.9165 - 212ms/epoch - 2ms/step\n",
            "Epoch 27/100\n",
            "127/127 - 0s - loss: 324.8534 - mean_absolute_error: 14.4441 - val_loss: 336.1526 - val_mean_absolute_error: 14.5699 - 200ms/epoch - 2ms/step\n",
            "Epoch 28/100\n",
            "127/127 - 0s - loss: 317.1075 - mean_absolute_error: 14.2100 - val_loss: 326.5443 - val_mean_absolute_error: 14.3098 - 194ms/epoch - 2ms/step\n",
            "Epoch 29/100\n",
            "127/127 - 0s - loss: 306.3741 - mean_absolute_error: 13.9538 - val_loss: 313.5789 - val_mean_absolute_error: 14.2630 - 200ms/epoch - 2ms/step\n",
            "Epoch 30/100\n",
            "127/127 - 0s - loss: 293.7153 - mean_absolute_error: 13.6717 - val_loss: 299.3416 - val_mean_absolute_error: 13.8898 - 190ms/epoch - 1ms/step\n",
            "Epoch 31/100\n",
            "127/127 - 0s - loss: 279.5140 - mean_absolute_error: 13.3100 - val_loss: 283.9555 - val_mean_absolute_error: 13.5800 - 190ms/epoch - 1ms/step\n",
            "Epoch 32/100\n",
            "127/127 - 0s - loss: 263.1819 - mean_absolute_error: 12.9166 - val_loss: 265.7073 - val_mean_absolute_error: 13.0051 - 186ms/epoch - 1ms/step\n",
            "Epoch 33/100\n",
            "127/127 - 0s - loss: 244.3275 - mean_absolute_error: 12.3331 - val_loss: 245.7502 - val_mean_absolute_error: 12.5524 - 198ms/epoch - 2ms/step\n",
            "Epoch 34/100\n",
            "127/127 - 0s - loss: 224.2453 - mean_absolute_error: 11.8198 - val_loss: 224.5277 - val_mean_absolute_error: 11.8872 - 193ms/epoch - 2ms/step\n",
            "Epoch 35/100\n",
            "127/127 - 0s - loss: 202.2317 - mean_absolute_error: 11.1101 - val_loss: 200.6108 - val_mean_absolute_error: 11.2365 - 203ms/epoch - 2ms/step\n",
            "Epoch 36/100\n",
            "127/127 - 0s - loss: 179.3976 - mean_absolute_error: 10.4683 - val_loss: 177.7418 - val_mean_absolute_error: 10.3119 - 206ms/epoch - 2ms/step\n",
            "Epoch 37/100\n",
            "127/127 - 0s - loss: 156.2731 - mean_absolute_error: 9.6074 - val_loss: 152.1754 - val_mean_absolute_error: 9.6928 - 200ms/epoch - 2ms/step\n",
            "Epoch 38/100\n",
            "127/127 - 0s - loss: 132.7383 - mean_absolute_error: 8.8003 - val_loss: 127.6439 - val_mean_absolute_error: 8.7621 - 200ms/epoch - 2ms/step\n",
            "Epoch 39/100\n",
            "127/127 - 0s - loss: 110.7419 - mean_absolute_error: 7.9390 - val_loss: 106.2133 - val_mean_absolute_error: 7.6258 - 201ms/epoch - 2ms/step\n",
            "Epoch 40/100\n",
            "127/127 - 0s - loss: 91.1268 - mean_absolute_error: 7.0048 - val_loss: 85.5200 - val_mean_absolute_error: 6.7833 - 206ms/epoch - 2ms/step\n",
            "Epoch 41/100\n",
            "127/127 - 0s - loss: 72.8930 - mean_absolute_error: 6.1401 - val_loss: 66.8065 - val_mean_absolute_error: 5.7718 - 213ms/epoch - 2ms/step\n",
            "Epoch 42/100\n",
            "127/127 - 0s - loss: 56.9095 - mean_absolute_error: 5.2151 - val_loss: 51.0172 - val_mean_absolute_error: 4.9571 - 195ms/epoch - 2ms/step\n",
            "Epoch 43/100\n",
            "127/127 - 0s - loss: 43.7696 - mean_absolute_error: 4.4129 - val_loss: 38.4725 - val_mean_absolute_error: 4.1762 - 196ms/epoch - 2ms/step\n",
            "Epoch 44/100\n",
            "127/127 - 0s - loss: 33.1893 - mean_absolute_error: 3.6680 - val_loss: 28.4997 - val_mean_absolute_error: 3.3324 - 206ms/epoch - 2ms/step\n",
            "Epoch 45/100\n",
            "127/127 - 0s - loss: 24.9848 - mean_absolute_error: 3.0565 - val_loss: 21.7616 - val_mean_absolute_error: 2.8947 - 200ms/epoch - 2ms/step\n",
            "Epoch 46/100\n",
            "127/127 - 0s - loss: 19.6974 - mean_absolute_error: 2.7132 - val_loss: 17.4797 - val_mean_absolute_error: 2.5477 - 268ms/epoch - 2ms/step\n",
            "Epoch 47/100\n",
            "127/127 - 0s - loss: 16.2288 - mean_absolute_error: 2.5136 - val_loss: 14.4571 - val_mean_absolute_error: 2.4902 - 316ms/epoch - 2ms/step\n",
            "Epoch 48/100\n",
            "127/127 - 0s - loss: 13.9425 - mean_absolute_error: 2.3876 - val_loss: 12.4858 - val_mean_absolute_error: 2.3116 - 289ms/epoch - 2ms/step\n",
            "Epoch 49/100\n",
            "127/127 - 0s - loss: 12.2831 - mean_absolute_error: 2.2725 - val_loss: 11.0358 - val_mean_absolute_error: 2.1861 - 328ms/epoch - 3ms/step\n",
            "Epoch 50/100\n",
            "127/127 - 0s - loss: 10.9860 - mean_absolute_error: 2.1591 - val_loss: 9.8840 - val_mean_absolute_error: 2.0746 - 284ms/epoch - 2ms/step\n",
            "Epoch 51/100\n",
            "127/127 - 0s - loss: 9.7557 - mean_absolute_error: 2.0427 - val_loss: 8.7395 - val_mean_absolute_error: 2.0034 - 329ms/epoch - 3ms/step\n",
            "Epoch 52/100\n",
            "127/127 - 0s - loss: 8.7277 - mean_absolute_error: 1.9247 - val_loss: 7.6487 - val_mean_absolute_error: 1.9200 - 324ms/epoch - 3ms/step\n",
            "Epoch 53/100\n",
            "127/127 - 0s - loss: 7.7051 - mean_absolute_error: 1.8118 - val_loss: 6.6660 - val_mean_absolute_error: 1.7648 - 315ms/epoch - 2ms/step\n",
            "Epoch 54/100\n",
            "127/127 - 0s - loss: 6.8240 - mean_absolute_error: 1.7094 - val_loss: 5.8485 - val_mean_absolute_error: 1.6504 - 196ms/epoch - 2ms/step\n",
            "Epoch 55/100\n",
            "127/127 - 0s - loss: 6.0402 - mean_absolute_error: 1.5941 - val_loss: 5.5018 - val_mean_absolute_error: 1.6716 - 202ms/epoch - 2ms/step\n",
            "Epoch 56/100\n",
            "127/127 - 0s - loss: 5.3907 - mean_absolute_error: 1.5023 - val_loss: 4.4777 - val_mean_absolute_error: 1.4682 - 201ms/epoch - 2ms/step\n",
            "Epoch 57/100\n",
            "127/127 - 0s - loss: 4.8260 - mean_absolute_error: 1.4077 - val_loss: 4.1595 - val_mean_absolute_error: 1.3380 - 210ms/epoch - 2ms/step\n",
            "Epoch 58/100\n",
            "127/127 - 0s - loss: 4.2623 - mean_absolute_error: 1.3104 - val_loss: 3.5572 - val_mean_absolute_error: 1.2095 - 204ms/epoch - 2ms/step\n",
            "Epoch 59/100\n",
            "127/127 - 0s - loss: 3.7439 - mean_absolute_error: 1.2205 - val_loss: 3.0154 - val_mean_absolute_error: 1.1192 - 197ms/epoch - 2ms/step\n",
            "Epoch 60/100\n",
            "127/127 - 0s - loss: 3.2619 - mean_absolute_error: 1.1255 - val_loss: 2.6144 - val_mean_absolute_error: 1.0839 - 199ms/epoch - 2ms/step\n",
            "Epoch 61/100\n",
            "127/127 - 0s - loss: 2.8489 - mean_absolute_error: 1.0361 - val_loss: 2.2614 - val_mean_absolute_error: 0.9588 - 201ms/epoch - 2ms/step\n",
            "Epoch 62/100\n",
            "127/127 - 0s - loss: 2.4801 - mean_absolute_error: 0.9308 - val_loss: 1.8939 - val_mean_absolute_error: 0.8802 - 209ms/epoch - 2ms/step\n",
            "Epoch 63/100\n",
            "127/127 - 0s - loss: 2.1265 - mean_absolute_error: 0.8465 - val_loss: 1.8132 - val_mean_absolute_error: 0.7318 - 203ms/epoch - 2ms/step\n",
            "Epoch 64/100\n",
            "127/127 - 0s - loss: 1.8282 - mean_absolute_error: 0.7523 - val_loss: 1.3968 - val_mean_absolute_error: 0.7531 - 195ms/epoch - 2ms/step\n",
            "Epoch 65/100\n",
            "127/127 - 0s - loss: 1.5533 - mean_absolute_error: 0.6775 - val_loss: 1.2034 - val_mean_absolute_error: 0.6607 - 238ms/epoch - 2ms/step\n",
            "Epoch 66/100\n",
            "127/127 - 0s - loss: 1.3270 - mean_absolute_error: 0.6042 - val_loss: 1.0435 - val_mean_absolute_error: 0.5366 - 201ms/epoch - 2ms/step\n",
            "Epoch 67/100\n",
            "127/127 - 0s - loss: 1.1223 - mean_absolute_error: 0.5305 - val_loss: 0.8430 - val_mean_absolute_error: 0.5253 - 246ms/epoch - 2ms/step\n",
            "Epoch 68/100\n",
            "127/127 - 0s - loss: 0.9565 - mean_absolute_error: 0.4803 - val_loss: 0.7349 - val_mean_absolute_error: 0.4222 - 201ms/epoch - 2ms/step\n",
            "Epoch 69/100\n",
            "127/127 - 0s - loss: 0.8277 - mean_absolute_error: 0.4203 - val_loss: 0.5798 - val_mean_absolute_error: 0.3948 - 194ms/epoch - 2ms/step\n",
            "Epoch 70/100\n",
            "127/127 - 0s - loss: 0.7084 - mean_absolute_error: 0.3744 - val_loss: 0.4706 - val_mean_absolute_error: 0.3634 - 201ms/epoch - 2ms/step\n",
            "Epoch 71/100\n",
            "127/127 - 0s - loss: 0.6057 - mean_absolute_error: 0.3357 - val_loss: 0.4033 - val_mean_absolute_error: 0.3284 - 203ms/epoch - 2ms/step\n",
            "Epoch 72/100\n",
            "127/127 - 0s - loss: 0.5293 - mean_absolute_error: 0.3067 - val_loss: 0.3071 - val_mean_absolute_error: 0.2562 - 189ms/epoch - 1ms/step\n",
            "Epoch 73/100\n",
            "127/127 - 0s - loss: 0.4591 - mean_absolute_error: 0.2737 - val_loss: 0.3466 - val_mean_absolute_error: 0.3547 - 199ms/epoch - 2ms/step\n",
            "Epoch 74/100\n",
            "127/127 - 0s - loss: 0.4019 - mean_absolute_error: 0.2489 - val_loss: 0.3695 - val_mean_absolute_error: 0.4101 - 199ms/epoch - 2ms/step\n",
            "Epoch 75/100\n",
            "127/127 - 0s - loss: 0.3511 - mean_absolute_error: 0.2261 - val_loss: 0.2247 - val_mean_absolute_error: 0.2595 - 199ms/epoch - 2ms/step\n",
            "Epoch 76/100\n",
            "127/127 - 0s - loss: 0.3215 - mean_absolute_error: 0.2153 - val_loss: 0.1597 - val_mean_absolute_error: 0.1927 - 195ms/epoch - 2ms/step\n",
            "Epoch 77/100\n",
            "127/127 - 0s - loss: 0.2815 - mean_absolute_error: 0.2048 - val_loss: 0.1523 - val_mean_absolute_error: 0.1468 - 206ms/epoch - 2ms/step\n",
            "Epoch 78/100\n",
            "127/127 - 0s - loss: 0.2570 - mean_absolute_error: 0.1971 - val_loss: 0.1118 - val_mean_absolute_error: 0.1355 - 200ms/epoch - 2ms/step\n",
            "Epoch 79/100\n",
            "127/127 - 0s - loss: 0.2313 - mean_absolute_error: 0.1799 - val_loss: 0.0969 - val_mean_absolute_error: 0.1498 - 196ms/epoch - 2ms/step\n",
            "Epoch 80/100\n",
            "127/127 - 0s - loss: 0.2148 - mean_absolute_error: 0.1755 - val_loss: 0.0973 - val_mean_absolute_error: 0.1453 - 204ms/epoch - 2ms/step\n",
            "Epoch 81/100\n",
            "127/127 - 0s - loss: 0.1894 - mean_absolute_error: 0.1658 - val_loss: 0.1088 - val_mean_absolute_error: 0.2252 - 243ms/epoch - 2ms/step\n",
            "Epoch 82/100\n",
            "127/127 - 0s - loss: 0.1753 - mean_absolute_error: 0.1712 - val_loss: 0.1101 - val_mean_absolute_error: 0.2222 - 196ms/epoch - 2ms/step\n",
            "Epoch 83/100\n",
            "127/127 - 0s - loss: 0.1642 - mean_absolute_error: 0.1610 - val_loss: 0.0600 - val_mean_absolute_error: 0.0850 - 196ms/epoch - 2ms/step\n",
            "Epoch 84/100\n",
            "127/127 - 0s - loss: 0.1526 - mean_absolute_error: 0.1603 - val_loss: 0.0669 - val_mean_absolute_error: 0.1562 - 192ms/epoch - 2ms/step\n",
            "Epoch 85/100\n",
            "127/127 - 0s - loss: 0.1426 - mean_absolute_error: 0.1681 - val_loss: 0.0681 - val_mean_absolute_error: 0.1681 - 206ms/epoch - 2ms/step\n",
            "Epoch 86/100\n",
            "127/127 - 0s - loss: 0.1319 - mean_absolute_error: 0.1552 - val_loss: 0.0496 - val_mean_absolute_error: 0.1093 - 212ms/epoch - 2ms/step\n",
            "Epoch 87/100\n",
            "127/127 - 0s - loss: 0.1232 - mean_absolute_error: 0.1542 - val_loss: 0.0447 - val_mean_absolute_error: 0.0995 - 203ms/epoch - 2ms/step\n",
            "Epoch 88/100\n",
            "127/127 - 0s - loss: 0.1134 - mean_absolute_error: 0.1550 - val_loss: 0.0843 - val_mean_absolute_error: 0.2347 - 191ms/epoch - 2ms/step\n",
            "Epoch 89/100\n",
            "127/127 - 0s - loss: 0.1089 - mean_absolute_error: 0.1592 - val_loss: 0.0336 - val_mean_absolute_error: 0.1026 - 203ms/epoch - 2ms/step\n",
            "Epoch 90/100\n",
            "127/127 - 0s - loss: 0.1016 - mean_absolute_error: 0.1551 - val_loss: 0.0314 - val_mean_absolute_error: 0.0958 - 195ms/epoch - 2ms/step\n",
            "Epoch 91/100\n",
            "127/127 - 0s - loss: 0.0909 - mean_absolute_error: 0.1520 - val_loss: 0.0571 - val_mean_absolute_error: 0.1776 - 208ms/epoch - 2ms/step\n",
            "Epoch 92/100\n",
            "127/127 - 0s - loss: 0.0870 - mean_absolute_error: 0.1552 - val_loss: 0.0252 - val_mean_absolute_error: 0.0776 - 196ms/epoch - 2ms/step\n",
            "Epoch 93/100\n",
            "127/127 - 0s - loss: 0.0829 - mean_absolute_error: 0.1476 - val_loss: 0.0385 - val_mean_absolute_error: 0.1434 - 208ms/epoch - 2ms/step\n",
            "Epoch 94/100\n",
            "127/127 - 0s - loss: 0.0763 - mean_absolute_error: 0.1584 - val_loss: 0.0581 - val_mean_absolute_error: 0.1909 - 204ms/epoch - 2ms/step\n",
            "Epoch 95/100\n",
            "127/127 - 0s - loss: 0.0748 - mean_absolute_error: 0.1504 - val_loss: 0.0288 - val_mean_absolute_error: 0.1115 - 195ms/epoch - 2ms/step\n",
            "Epoch 96/100\n",
            "127/127 - 0s - loss: 0.0703 - mean_absolute_error: 0.1472 - val_loss: 0.0360 - val_mean_absolute_error: 0.1486 - 220ms/epoch - 2ms/step\n",
            "time taken: 21.11367106437683\n"
          ]
        }
      ]
    },
    {
      "cell_type": "code",
      "metadata": {
        "colab": {
          "base_uri": "https://localhost:8080/"
        },
        "id": "MFcCRfwImoZA",
        "outputId": "421f37ce-d825-4ffc-a9a5-fda515762e6e"
      },
      "source": [
        "start_time = time.time()\n",
        "h_base = model_base.fit(X_train, y_train,\n",
        "               epochs=epochs,\n",
        "               batch_size=64,\n",
        "               validation_split=0.1,\n",
        "               verbose=2,\n",
        "               callbacks=[callback]\n",
        "               )\n",
        "print(\"time taken:\", time.time() - start_time)"
      ],
      "execution_count": 40,
      "outputs": [
        {
          "output_type": "stream",
          "name": "stdout",
          "text": [
            "Epoch 1/100\n",
            "127/127 - 1s - loss: 16539.3574 - mean_absolute_error: 102.7830 - val_loss: 15967.5078 - val_mean_absolute_error: 100.4569 - 706ms/epoch - 6ms/step\n",
            "Epoch 2/100\n",
            "127/127 - 0s - loss: 16283.1807 - mean_absolute_error: 101.9648 - val_loss: 15657.6514 - val_mean_absolute_error: 99.4347 - 218ms/epoch - 2ms/step\n",
            "Epoch 3/100\n",
            "127/127 - 0s - loss: 15903.4258 - mean_absolute_error: 100.7081 - val_loss: 15207.2998 - val_mean_absolute_error: 97.9089 - 283ms/epoch - 2ms/step\n",
            "Epoch 4/100\n",
            "127/127 - 0s - loss: 15386.4385 - mean_absolute_error: 98.9467 - val_loss: 14625.2578 - val_mean_absolute_error: 95.8822 - 332ms/epoch - 3ms/step\n",
            "Epoch 5/100\n",
            "127/127 - 0s - loss: 14733.8359 - mean_absolute_error: 96.6820 - val_loss: 13921.6348 - val_mean_absolute_error: 93.3634 - 297ms/epoch - 2ms/step\n",
            "Epoch 6/100\n",
            "127/127 - 0s - loss: 13969.0420 - mean_absolute_error: 93.9435 - val_loss: 13111.0381 - val_mean_absolute_error: 90.3706 - 337ms/epoch - 3ms/step\n",
            "Epoch 7/100\n",
            "127/127 - 0s - loss: 13101.4805 - mean_absolute_error: 90.7414 - val_loss: 12209.0479 - val_mean_absolute_error: 86.9148 - 292ms/epoch - 2ms/step\n",
            "Epoch 8/100\n",
            "127/127 - 0s - loss: 12149.4629 - mean_absolute_error: 87.1111 - val_loss: 11237.4971 - val_mean_absolute_error: 83.0246 - 294ms/epoch - 2ms/step\n",
            "Epoch 9/100\n",
            "127/127 - 0s - loss: 11130.0898 - mean_absolute_error: 83.0412 - val_loss: 10212.9141 - val_mean_absolute_error: 78.7473 - 300ms/epoch - 2ms/step\n",
            "Epoch 10/100\n",
            "127/127 - 0s - loss: 10073.3906 - mean_absolute_error: 78.6185 - val_loss: 9148.4209 - val_mean_absolute_error: 74.0671 - 301ms/epoch - 2ms/step\n",
            "Epoch 11/100\n",
            "127/127 - 0s - loss: 8971.8740 - mean_absolute_error: 73.7546 - val_loss: 8057.9565 - val_mean_absolute_error: 68.9941 - 242ms/epoch - 2ms/step\n",
            "Epoch 12/100\n",
            "127/127 - 0s - loss: 7851.5928 - mean_absolute_error: 68.5325 - val_loss: 6975.8184 - val_mean_absolute_error: 63.6165 - 200ms/epoch - 2ms/step\n",
            "Epoch 13/100\n",
            "127/127 - 0s - loss: 6751.8403 - mean_absolute_error: 62.9846 - val_loss: 5913.9946 - val_mean_absolute_error: 57.9587 - 193ms/epoch - 2ms/step\n",
            "Epoch 14/100\n",
            "127/127 - 0s - loss: 5681.1274 - mean_absolute_error: 57.1215 - val_loss: 4898.2808 - val_mean_absolute_error: 52.1146 - 197ms/epoch - 2ms/step\n",
            "Epoch 15/100\n",
            "127/127 - 0s - loss: 4665.6567 - mean_absolute_error: 51.0203 - val_loss: 3941.9934 - val_mean_absolute_error: 46.1181 - 188ms/epoch - 1ms/step\n",
            "Epoch 16/100\n",
            "127/127 - 0s - loss: 3713.2634 - mean_absolute_error: 44.7310 - val_loss: 3076.8164 - val_mean_absolute_error: 40.0215 - 194ms/epoch - 2ms/step\n",
            "Epoch 17/100\n",
            "127/127 - 0s - loss: 2861.6792 - mean_absolute_error: 38.4898 - val_loss: 2320.6860 - val_mean_absolute_error: 34.0705 - 192ms/epoch - 2ms/step\n",
            "Epoch 18/100\n",
            "127/127 - 0s - loss: 2136.0088 - mean_absolute_error: 32.4623 - val_loss: 1689.3641 - val_mean_absolute_error: 28.4288 - 239ms/epoch - 2ms/step\n",
            "Epoch 19/100\n",
            "127/127 - 0s - loss: 1537.2933 - mean_absolute_error: 26.8535 - val_loss: 1193.4635 - val_mean_absolute_error: 23.4590 - 196ms/epoch - 2ms/step\n",
            "Epoch 20/100\n",
            "127/127 - 0s - loss: 1070.0881 - mean_absolute_error: 21.8918 - val_loss: 822.2576 - val_mean_absolute_error: 19.1055 - 190ms/epoch - 1ms/step\n",
            "Epoch 21/100\n",
            "127/127 - 0s - loss: 715.2644 - mean_absolute_error: 17.7570 - val_loss: 561.3115 - val_mean_absolute_error: 16.2065 - 202ms/epoch - 2ms/step\n",
            "Epoch 22/100\n",
            "127/127 - 0s - loss: 497.3475 - mean_absolute_error: 15.4390 - val_loss: 418.3310 - val_mean_absolute_error: 14.9051 - 190ms/epoch - 1ms/step\n",
            "Epoch 23/100\n",
            "127/127 - 0s - loss: 388.6976 - mean_absolute_error: 14.7644 - val_loss: 369.4556 - val_mean_absolute_error: 14.8298 - 197ms/epoch - 2ms/step\n",
            "Epoch 24/100\n",
            "127/127 - 0s - loss: 352.6723 - mean_absolute_error: 14.7647 - val_loss: 355.1862 - val_mean_absolute_error: 14.9824 - 185ms/epoch - 1ms/step\n",
            "Epoch 25/100\n",
            "127/127 - 0s - loss: 339.0406 - mean_absolute_error: 14.7367 - val_loss: 347.7659 - val_mean_absolute_error: 14.9234 - 191ms/epoch - 2ms/step\n",
            "Epoch 26/100\n",
            "127/127 - 0s - loss: 330.4023 - mean_absolute_error: 14.5809 - val_loss: 339.6999 - val_mean_absolute_error: 14.8765 - 190ms/epoch - 1ms/step\n",
            "Epoch 27/100\n",
            "127/127 - 0s - loss: 322.5040 - mean_absolute_error: 14.4585 - val_loss: 331.8705 - val_mean_absolute_error: 14.7632 - 198ms/epoch - 2ms/step\n",
            "Epoch 28/100\n",
            "127/127 - 0s - loss: 314.8313 - mean_absolute_error: 14.3501 - val_loss: 324.7041 - val_mean_absolute_error: 14.5134 - 192ms/epoch - 2ms/step\n",
            "Epoch 29/100\n",
            "127/127 - 0s - loss: 307.1398 - mean_absolute_error: 14.1363 - val_loss: 317.7306 - val_mean_absolute_error: 14.3685 - 200ms/epoch - 2ms/step\n",
            "Epoch 30/100\n",
            "127/127 - 0s - loss: 298.8926 - mean_absolute_error: 13.9530 - val_loss: 307.8505 - val_mean_absolute_error: 14.1995 - 190ms/epoch - 1ms/step\n",
            "Epoch 31/100\n",
            "127/127 - 0s - loss: 290.7099 - mean_absolute_error: 13.7562 - val_loss: 299.6382 - val_mean_absolute_error: 14.0007 - 193ms/epoch - 2ms/step\n",
            "Epoch 32/100\n",
            "127/127 - 0s - loss: 281.1855 - mean_absolute_error: 13.5253 - val_loss: 289.4437 - val_mean_absolute_error: 13.8063 - 200ms/epoch - 2ms/step\n",
            "Epoch 33/100\n",
            "127/127 - 0s - loss: 270.8777 - mean_absolute_error: 13.3063 - val_loss: 277.2360 - val_mean_absolute_error: 13.4571 - 195ms/epoch - 2ms/step\n",
            "Epoch 34/100\n",
            "127/127 - 0s - loss: 259.8157 - mean_absolute_error: 12.9799 - val_loss: 266.3672 - val_mean_absolute_error: 13.1759 - 204ms/epoch - 2ms/step\n",
            "Epoch 35/100\n",
            "127/127 - 0s - loss: 248.6009 - mean_absolute_error: 12.6855 - val_loss: 253.9894 - val_mean_absolute_error: 12.8006 - 192ms/epoch - 2ms/step\n",
            "Epoch 36/100\n",
            "127/127 - 0s - loss: 236.7115 - mean_absolute_error: 12.3334 - val_loss: 240.8480 - val_mean_absolute_error: 12.4969 - 197ms/epoch - 2ms/step\n",
            "Epoch 37/100\n",
            "127/127 - 0s - loss: 224.3444 - mean_absolute_error: 11.9854 - val_loss: 228.0216 - val_mean_absolute_error: 12.1313 - 191ms/epoch - 2ms/step\n",
            "Epoch 38/100\n",
            "127/127 - 0s - loss: 211.3844 - mean_absolute_error: 11.5993 - val_loss: 213.4940 - val_mean_absolute_error: 11.7662 - 191ms/epoch - 2ms/step\n",
            "Epoch 39/100\n",
            "127/127 - 0s - loss: 197.9106 - mean_absolute_error: 11.2024 - val_loss: 200.0970 - val_mean_absolute_error: 11.3871 - 195ms/epoch - 2ms/step\n",
            "Epoch 40/100\n",
            "127/127 - 0s - loss: 184.7803 - mean_absolute_error: 10.7855 - val_loss: 186.8162 - val_mean_absolute_error: 10.9363 - 189ms/epoch - 1ms/step\n",
            "Epoch 41/100\n",
            "127/127 - 0s - loss: 171.5691 - mean_absolute_error: 10.3655 - val_loss: 172.7477 - val_mean_absolute_error: 10.4837 - 183ms/epoch - 1ms/step\n",
            "Epoch 42/100\n",
            "127/127 - 0s - loss: 158.2044 - mean_absolute_error: 9.9152 - val_loss: 158.3921 - val_mean_absolute_error: 10.0502 - 184ms/epoch - 1ms/step\n",
            "Epoch 43/100\n",
            "127/127 - 0s - loss: 144.5257 - mean_absolute_error: 9.4382 - val_loss: 144.7867 - val_mean_absolute_error: 9.5450 - 199ms/epoch - 2ms/step\n",
            "Epoch 44/100\n",
            "127/127 - 0s - loss: 131.5872 - mean_absolute_error: 8.9630 - val_loss: 131.4349 - val_mean_absolute_error: 9.0836 - 198ms/epoch - 2ms/step\n",
            "Epoch 45/100\n",
            "127/127 - 0s - loss: 118.6211 - mean_absolute_error: 8.4859 - val_loss: 117.7618 - val_mean_absolute_error: 8.5555 - 196ms/epoch - 2ms/step\n",
            "Epoch 46/100\n",
            "127/127 - 0s - loss: 106.4730 - mean_absolute_error: 7.9928 - val_loss: 105.0627 - val_mean_absolute_error: 8.0773 - 199ms/epoch - 2ms/step\n",
            "Epoch 47/100\n",
            "127/127 - 0s - loss: 94.8158 - mean_absolute_error: 7.5081 - val_loss: 93.8050 - val_mean_absolute_error: 7.6359 - 191ms/epoch - 2ms/step\n",
            "Epoch 48/100\n",
            "127/127 - 0s - loss: 83.9989 - mean_absolute_error: 7.0351 - val_loss: 82.5233 - val_mean_absolute_error: 7.1442 - 196ms/epoch - 2ms/step\n",
            "Epoch 49/100\n",
            "127/127 - 0s - loss: 73.7342 - mean_absolute_error: 6.5774 - val_loss: 71.6206 - val_mean_absolute_error: 6.6388 - 195ms/epoch - 2ms/step\n",
            "Epoch 50/100\n",
            "127/127 - 0s - loss: 64.2311 - mean_absolute_error: 6.1126 - val_loss: 61.7059 - val_mean_absolute_error: 6.1403 - 193ms/epoch - 2ms/step\n",
            "Epoch 51/100\n",
            "127/127 - 0s - loss: 55.6013 - mean_absolute_error: 5.6724 - val_loss: 53.0348 - val_mean_absolute_error: 5.6051 - 197ms/epoch - 2ms/step\n",
            "Epoch 52/100\n",
            "127/127 - 0s - loss: 47.6671 - mean_absolute_error: 5.1993 - val_loss: 44.9698 - val_mean_absolute_error: 5.1841 - 184ms/epoch - 1ms/step\n",
            "Epoch 53/100\n",
            "127/127 - 0s - loss: 40.8097 - mean_absolute_error: 4.8037 - val_loss: 37.8648 - val_mean_absolute_error: 4.7504 - 185ms/epoch - 1ms/step\n",
            "Epoch 54/100\n",
            "127/127 - 0s - loss: 34.8660 - mean_absolute_error: 4.4308 - val_loss: 32.0288 - val_mean_absolute_error: 4.3055 - 194ms/epoch - 2ms/step\n",
            "Epoch 55/100\n",
            "127/127 - 0s - loss: 29.4336 - mean_absolute_error: 4.0575 - val_loss: 26.4964 - val_mean_absolute_error: 3.9511 - 192ms/epoch - 2ms/step\n",
            "Epoch 56/100\n",
            "127/127 - 0s - loss: 25.0484 - mean_absolute_error: 3.7496 - val_loss: 22.4250 - val_mean_absolute_error: 3.5948 - 193ms/epoch - 2ms/step\n",
            "Epoch 57/100\n",
            "127/127 - 0s - loss: 21.3943 - mean_absolute_error: 3.4756 - val_loss: 18.7583 - val_mean_absolute_error: 3.3295 - 194ms/epoch - 2ms/step\n",
            "Epoch 58/100\n",
            "127/127 - 0s - loss: 18.3411 - mean_absolute_error: 3.2211 - val_loss: 15.8305 - val_mean_absolute_error: 3.0615 - 185ms/epoch - 1ms/step\n",
            "Epoch 59/100\n",
            "127/127 - 0s - loss: 15.7350 - mean_absolute_error: 3.0016 - val_loss: 13.3695 - val_mean_absolute_error: 2.8122 - 194ms/epoch - 2ms/step\n",
            "Epoch 60/100\n",
            "127/127 - 0s - loss: 13.6603 - mean_absolute_error: 2.8025 - val_loss: 11.5502 - val_mean_absolute_error: 2.6518 - 198ms/epoch - 2ms/step\n",
            "Epoch 61/100\n",
            "127/127 - 0s - loss: 11.8679 - mean_absolute_error: 2.6226 - val_loss: 9.9331 - val_mean_absolute_error: 2.4387 - 192ms/epoch - 2ms/step\n",
            "Epoch 62/100\n",
            "127/127 - 0s - loss: 10.3671 - mean_absolute_error: 2.4520 - val_loss: 8.6539 - val_mean_absolute_error: 2.3072 - 327ms/epoch - 3ms/step\n",
            "Epoch 63/100\n",
            "127/127 - 0s - loss: 9.0518 - mean_absolute_error: 2.3040 - val_loss: 7.6052 - val_mean_absolute_error: 2.1471 - 280ms/epoch - 2ms/step\n",
            "Epoch 64/100\n",
            "127/127 - 0s - loss: 7.9211 - mean_absolute_error: 2.1601 - val_loss: 6.6677 - val_mean_absolute_error: 2.0268 - 295ms/epoch - 2ms/step\n",
            "Epoch 65/100\n",
            "127/127 - 0s - loss: 7.0071 - mean_absolute_error: 2.0338 - val_loss: 5.8671 - val_mean_absolute_error: 1.8887 - 300ms/epoch - 2ms/step\n",
            "Epoch 66/100\n",
            "127/127 - 0s - loss: 6.1894 - mean_absolute_error: 1.9057 - val_loss: 5.1204 - val_mean_absolute_error: 1.7726 - 265ms/epoch - 2ms/step\n",
            "Epoch 67/100\n",
            "127/127 - 0s - loss: 5.4467 - mean_absolute_error: 1.7848 - val_loss: 4.5273 - val_mean_absolute_error: 1.6761 - 318ms/epoch - 3ms/step\n",
            "Epoch 68/100\n",
            "127/127 - 0s - loss: 4.8104 - mean_absolute_error: 1.6834 - val_loss: 4.0319 - val_mean_absolute_error: 1.5772 - 309ms/epoch - 2ms/step\n",
            "Epoch 69/100\n",
            "127/127 - 0s - loss: 4.2643 - mean_absolute_error: 1.5755 - val_loss: 3.5396 - val_mean_absolute_error: 1.4692 - 269ms/epoch - 2ms/step\n",
            "Epoch 70/100\n",
            "127/127 - 0s - loss: 3.7825 - mean_absolute_error: 1.4824 - val_loss: 3.1373 - val_mean_absolute_error: 1.3930 - 182ms/epoch - 1ms/step\n",
            "Epoch 71/100\n",
            "127/127 - 0s - loss: 3.3525 - mean_absolute_error: 1.3921 - val_loss: 2.8244 - val_mean_absolute_error: 1.3202 - 201ms/epoch - 2ms/step\n",
            "Epoch 72/100\n",
            "127/127 - 0s - loss: 2.9710 - mean_absolute_error: 1.3103 - val_loss: 2.5132 - val_mean_absolute_error: 1.2309 - 193ms/epoch - 2ms/step\n",
            "Epoch 73/100\n",
            "127/127 - 0s - loss: 2.6434 - mean_absolute_error: 1.2266 - val_loss: 2.2327 - val_mean_absolute_error: 1.1654 - 194ms/epoch - 2ms/step\n",
            "Epoch 74/100\n",
            "127/127 - 0s - loss: 2.3358 - mean_absolute_error: 1.1498 - val_loss: 1.9897 - val_mean_absolute_error: 1.0882 - 197ms/epoch - 2ms/step\n",
            "Epoch 75/100\n",
            "127/127 - 0s - loss: 2.0746 - mean_absolute_error: 1.0762 - val_loss: 1.7653 - val_mean_absolute_error: 1.0128 - 183ms/epoch - 1ms/step\n",
            "Epoch 76/100\n",
            "127/127 - 0s - loss: 1.8470 - mean_absolute_error: 1.0107 - val_loss: 1.5725 - val_mean_absolute_error: 0.9347 - 234ms/epoch - 2ms/step\n",
            "Epoch 77/100\n",
            "127/127 - 0s - loss: 1.6368 - mean_absolute_error: 0.9427 - val_loss: 1.3839 - val_mean_absolute_error: 0.8750 - 214ms/epoch - 2ms/step\n",
            "Epoch 78/100\n",
            "127/127 - 0s - loss: 1.4511 - mean_absolute_error: 0.8813 - val_loss: 1.2337 - val_mean_absolute_error: 0.8204 - 198ms/epoch - 2ms/step\n",
            "Epoch 79/100\n",
            "127/127 - 0s - loss: 1.2835 - mean_absolute_error: 0.8233 - val_loss: 1.0977 - val_mean_absolute_error: 0.7630 - 184ms/epoch - 1ms/step\n",
            "Epoch 80/100\n",
            "127/127 - 0s - loss: 1.1380 - mean_absolute_error: 0.7635 - val_loss: 0.9928 - val_mean_absolute_error: 0.7386 - 183ms/epoch - 1ms/step\n",
            "Epoch 81/100\n",
            "127/127 - 0s - loss: 1.0028 - mean_absolute_error: 0.7098 - val_loss: 0.8727 - val_mean_absolute_error: 0.6603 - 196ms/epoch - 2ms/step\n",
            "Epoch 82/100\n",
            "127/127 - 0s - loss: 0.8938 - mean_absolute_error: 0.6579 - val_loss: 0.7622 - val_mean_absolute_error: 0.6258 - 184ms/epoch - 1ms/step\n",
            "Epoch 83/100\n",
            "127/127 - 0s - loss: 0.7782 - mean_absolute_error: 0.6040 - val_loss: 0.6741 - val_mean_absolute_error: 0.5825 - 200ms/epoch - 2ms/step\n",
            "Epoch 84/100\n",
            "127/127 - 0s - loss: 0.6895 - mean_absolute_error: 0.5594 - val_loss: 0.5996 - val_mean_absolute_error: 0.5436 - 242ms/epoch - 2ms/step\n",
            "Epoch 85/100\n",
            "127/127 - 0s - loss: 0.6055 - mean_absolute_error: 0.5134 - val_loss: 0.5321 - val_mean_absolute_error: 0.5082 - 185ms/epoch - 1ms/step\n",
            "Epoch 86/100\n",
            "127/127 - 0s - loss: 0.5272 - mean_absolute_error: 0.4664 - val_loss: 0.4622 - val_mean_absolute_error: 0.4592 - 205ms/epoch - 2ms/step\n",
            "Epoch 87/100\n",
            "127/127 - 0s - loss: 0.4589 - mean_absolute_error: 0.4219 - val_loss: 0.4007 - val_mean_absolute_error: 0.4265 - 196ms/epoch - 2ms/step\n",
            "Epoch 88/100\n",
            "127/127 - 0s - loss: 0.3991 - mean_absolute_error: 0.3844 - val_loss: 0.3338 - val_mean_absolute_error: 0.3744 - 188ms/epoch - 1ms/step\n",
            "Epoch 89/100\n",
            "127/127 - 0s - loss: 0.3479 - mean_absolute_error: 0.3505 - val_loss: 0.2895 - val_mean_absolute_error: 0.3125 - 190ms/epoch - 1ms/step\n",
            "Epoch 90/100\n",
            "127/127 - 0s - loss: 0.3015 - mean_absolute_error: 0.3164 - val_loss: 0.2597 - val_mean_absolute_error: 0.3225 - 188ms/epoch - 1ms/step\n",
            "Epoch 91/100\n",
            "127/127 - 0s - loss: 0.2637 - mean_absolute_error: 0.2881 - val_loss: 0.2301 - val_mean_absolute_error: 0.2908 - 191ms/epoch - 2ms/step\n",
            "Epoch 92/100\n",
            "127/127 - 0s - loss: 0.2330 - mean_absolute_error: 0.2629 - val_loss: 0.1929 - val_mean_absolute_error: 0.2440 - 209ms/epoch - 2ms/step\n",
            "Epoch 93/100\n",
            "127/127 - 0s - loss: 0.2062 - mean_absolute_error: 0.2439 - val_loss: 0.1754 - val_mean_absolute_error: 0.2237 - 195ms/epoch - 2ms/step\n",
            "Epoch 94/100\n",
            "127/127 - 0s - loss: 0.1863 - mean_absolute_error: 0.2260 - val_loss: 0.1777 - val_mean_absolute_error: 0.2646 - 197ms/epoch - 2ms/step\n",
            "Epoch 95/100\n",
            "127/127 - 0s - loss: 0.1685 - mean_absolute_error: 0.2150 - val_loss: 0.1586 - val_mean_absolute_error: 0.2284 - 228ms/epoch - 2ms/step\n",
            "Epoch 96/100\n",
            "127/127 - 0s - loss: 0.1539 - mean_absolute_error: 0.2033 - val_loss: 0.1342 - val_mean_absolute_error: 0.2057 - 235ms/epoch - 2ms/step\n",
            "Epoch 97/100\n",
            "127/127 - 0s - loss: 0.1412 - mean_absolute_error: 0.1897 - val_loss: 0.1230 - val_mean_absolute_error: 0.1933 - 191ms/epoch - 2ms/step\n",
            "Epoch 98/100\n",
            "127/127 - 0s - loss: 0.1293 - mean_absolute_error: 0.1824 - val_loss: 0.1113 - val_mean_absolute_error: 0.1889 - 190ms/epoch - 1ms/step\n",
            "Epoch 99/100\n",
            "127/127 - 0s - loss: 0.1193 - mean_absolute_error: 0.1751 - val_loss: 0.1100 - val_mean_absolute_error: 0.1959 - 186ms/epoch - 1ms/step\n",
            "Epoch 100/100\n",
            "127/127 - 0s - loss: 0.1107 - mean_absolute_error: 0.1690 - val_loss: 0.1185 - val_mean_absolute_error: 0.2250 - 189ms/epoch - 1ms/step\n",
            "time taken: 22.291416883468628\n"
          ]
        }
      ]
    },
    {
      "cell_type": "code",
      "metadata": {
        "colab": {
          "base_uri": "https://localhost:8080/"
        },
        "id": "1v9_TxHfrCra",
        "outputId": "e130fcd2-cade-4f28-d4f3-bdaa8e892a35"
      },
      "source": [
        "model_base.evaluate(X_test, y_test)"
      ],
      "execution_count": 17,
      "outputs": [
        {
          "output_type": "stream",
          "name": "stdout",
          "text": [
            "32/32 [==============================] - 0s 2ms/step - loss: 0.2681 - mean_absolute_error: 0.2265\n"
          ]
        },
        {
          "output_type": "execute_result",
          "data": {
            "text/plain": [
              "[0.26812639832496643, 0.22645775973796844]"
            ]
          },
          "metadata": {},
          "execution_count": 17
        }
      ]
    },
    {
      "cell_type": "code",
      "metadata": {
        "id": "W88haOads5Ln",
        "colab": {
          "base_uri": "https://localhost:8080/"
        },
        "outputId": "6031107c-b160-4289-b98e-ad73b6d7b789"
      },
      "source": [
        "model_adaptive.evaluate(X_test, y_test)"
      ],
      "execution_count": 18,
      "outputs": [
        {
          "output_type": "stream",
          "name": "stdout",
          "text": [
            "32/32 [==============================] - 0s 1ms/step - loss: 0.0298 - mean_absolute_error: 0.0867\n"
          ]
        },
        {
          "output_type": "execute_result",
          "data": {
            "text/plain": [
              "[0.029812728986144066, 0.08668028563261032]"
            ]
          },
          "metadata": {},
          "execution_count": 18
        }
      ]
    },
    {
      "cell_type": "code",
      "source": [
        "plt.plot(h_base.history[\"val_mean_absolute_error\"],\n",
        "         \"-.\",\n",
        "         markersize=5,\n",
        "         label=\"base\"\n",
        "         )\n",
        "plt.plot(h_adaptive.history[\"val_mean_absolute_error\"],\n",
        "         \"-*\",\n",
        "         markersize=5,\n",
        "         label=\"adapter\")\n",
        "plt.legend()"
      ],
      "metadata": {
        "colab": {
          "base_uri": "https://localhost:8080/",
          "height": 447
        },
        "id": "GDoampn85d5s",
        "outputId": "defe961a-88aa-40e0-ed2b-34bde8157ac5"
      },
      "execution_count": 31,
      "outputs": [
        {
          "output_type": "execute_result",
          "data": {
            "text/plain": [
              "<matplotlib.legend.Legend at 0x79896545df00>"
            ]
          },
          "metadata": {},
          "execution_count": 31
        },
        {
          "output_type": "display_data",
          "data": {
            "text/plain": [
              "<Figure size 640x480 with 1 Axes>"
            ],
            "image/png": "[encoded data removed]"
          },
          "metadata": {}
        }
      ]
    },
    {
      "cell_type": "markdown",
      "source": [
        "From the plot, the model with adapter layer reaches a plateau in less epochs than a model with no adapter, i.e. adapter may help in training, but the loss plateau values are fairly the same in both lines."
      ],
      "metadata": {
        "id": "PkN-B65H8eo2"
      }
    },
    {
      "cell_type": "markdown",
      "metadata": {
        "id": "e1i_zllWtXel"
      },
      "source": [
        "Check values of adapter parameter"
      ]
    },
    {
      "cell_type": "code",
      "metadata": {
        "colab": {
          "base_uri": "https://localhost:8080/"
        },
        "id": "qTYUu3LzwL39",
        "outputId": "bcf1ee03-e4a1-41c8-ae74-08c199aad62e"
      },
      "source": [
        "model_adaptive.weights[2]"
      ],
      "execution_count": null,
      "outputs": [
        {
          "output_type": "execute_result",
          "data": {
            "text/plain": [
              "<tf.Variable 'adaptive_activation_1/adapters:0' shape=(16,) dtype=float32, numpy=\n",
              "array([ 0.72844213, -0.7390092 , -0.6723192 , -0.42875537,  0.31873676,\n",
              "       -0.531977  , -0.39968258,  0.07008532, -0.5568499 , -0.38792995,\n",
              "       -0.36615428, -0.0129946 , -0.37562716, -0.3111375 ,  1.3562351 ,\n",
              "       -0.05103129], dtype=float32)>"
            ]
          },
          "metadata": {},
          "execution_count": 34
        }
      ]
    },
    {
      "cell_type": "code",
      "metadata": {
        "id": "jqRNB6yms9q3"
      },
      "source": [
        "adapters_data = model_adaptive.weights[2].numpy()"
      ],
      "execution_count": null,
      "outputs": []
    },
    {
      "cell_type": "code",
      "metadata": {
        "id": "acTmVnVYtO9F"
      },
      "source": [
        "df_adapters = pd.Series(adapters_data, name='Adapters')"
      ],
      "execution_count": null,
      "outputs": []
    },
    {
      "cell_type": "code",
      "metadata": {
        "colab": {
          "base_uri": "https://localhost:8080/"
        },
        "id": "sk-2epA-tuE_",
        "outputId": "c702dbc8-9bb7-477c-ec87-20c82db211c1"
      },
      "source": [
        "df_adapters.describe()"
      ],
      "execution_count": null,
      "outputs": [
        {
          "output_type": "execute_result",
          "data": {
            "text/plain": [
              "count    16.000000\n",
              "mean     -0.571527\n",
              "std       2.001562\n",
              "min      -2.575184\n",
              "25%      -2.242739\n",
              "50%      -1.705827\n",
              "75%       1.134458\n",
              "max       2.660141\n",
              "Name: Adapters, dtype: float64"
            ]
          },
          "metadata": {},
          "execution_count": 27
        }
      ]
    },
    {
      "cell_type": "code",
      "metadata": {
        "colab": {
          "base_uri": "https://localhost:8080/",
          "height": 447
        },
        "id": "AyGEc9Pzth-p",
        "outputId": "3aa4b5ec-9260-472e-fdb2-c2f45bd9d9b4"
      },
      "source": [
        "df_adapters.plot(kind='hist')"
      ],
      "execution_count": null,
      "outputs": [
        {
          "output_type": "execute_result",
          "data": {
            "text/plain": [
              "<Axes: ylabel='Frequency'>"
            ]
          },
          "metadata": {},
          "execution_count": 28
        },
        {
          "output_type": "display_data",
          "data": {
            "text/plain": [
              "<Figure size 640x480 with 1 Axes>"
            ],
            "image/png": "[encoded data removed]"
          },
          "metadata": {}
        }
      ]
    },
    {
      "cell_type": "markdown",
      "source": [
        "We can try the same with a CNN model, i.e. a neural network specialized in\n",
        "analyzing and making predictions from images"
      ],
      "metadata": {
        "id": "USDuMHJZKmZR"
      }
    },
    {
      "cell_type": "code",
      "metadata": {
        "id": "uNbG606jt9dJ",
        "colab": {
          "base_uri": "https://localhost:8080/"
        },
        "outputId": "ae4d89c1-2f1c-4df0-feda-fa67577f1eb2"
      },
      "source": [
        "(x_train, y_train), (x_test, y_test) = keras.datasets.cifar10.load_data()\n",
        "assert x_train.shape == (50000, 32, 32, 3)\n",
        "assert x_test.shape == (10000, 32, 32, 3)\n",
        "assert y_train.shape == (50000, 1)\n",
        "assert y_test.shape == (10000, 1)"
      ],
      "execution_count": null,
      "outputs": [
        {
          "output_type": "stream",
          "name": "stdout",
          "text": [
            "Downloading data from https://www.cs.toronto.edu/~kriz/cifar-10-python.tar.gz\n",
            "170498071/170498071 [==============================] - 3s 0us/step\n"
          ]
        }
      ]
    },
    {
      "cell_type": "code",
      "metadata": {
        "id": "b6U6ZdVR3Z91"
      },
      "source": [
        "class AdaptiveActivationCNN(layers.Layer):\n",
        "  def __init__ (self, units=32, input_dim=32):\n",
        "    super(AdaptiveActivation, self).__init__()\n",
        "    self.units = units\n",
        "    self.adapter = None\n",
        "  def build(self, input_shape):\n",
        "    self.w = self.add_weight(shape=(input_shape[-1], self.units),\n",
        "                             initializer=\"random_normal\",\n",
        "                             trainable=True,\n",
        "                             name='weights',\n",
        "                             )\n",
        "    # Weights setup\n",
        "    #w_init = tf.random_normal_initializer()\n",
        "    #self.w = tf.Variable(\n",
        "    #    initial_value=w_init(shape=(input_dim, units), dtype=\"float32\"),\n",
        "    #    trainable=True\n",
        "    #    )\n",
        "    # Bias setup\n",
        "    #b_init = tf.zeros_initializer()\n",
        "    #self.b = tf.Variable(\n",
        "    #    initial_value=b_init(shape=(self.units, ), dtype=\"float32\"), trainable=True\n",
        "    #    )\n",
        "    self.b = self.add_weight(shape=(self.units,),\n",
        "                             initializer=tf.zeros_initializer(),\n",
        "                             trainable=True,\n",
        "                             name='bias',\n",
        "                             )\n",
        "    # Adapter setup\n",
        "    #adapter_init = tf.random_normal_initializer()\n",
        "    #self.adapter = tf.Variable(\n",
        "    #    initial_value=adapter_init(shape=(self.units, ), dtype=\"float32\"),\n",
        "    #    trainable=True,\n",
        "    #)\n",
        "    self.adapter = self.add_weight(shape=(self.units,),\n",
        "                                   initializer=tf.random_normal_initializer(),\n",
        "                                   trainable=True,\n",
        "                                   name='adapters',\n",
        "                                   )\n",
        "\n",
        "  def call(self, inputs):\n",
        "    output_linear = tf.matmul(inputs, self.w) + self.b\n",
        "    return self.adapter * activations.relu(output_linear)"
      ],
      "execution_count": null,
      "outputs": []
    }
  ]
}
