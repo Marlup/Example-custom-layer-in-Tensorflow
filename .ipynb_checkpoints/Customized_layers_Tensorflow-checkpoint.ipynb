{
 "cells": [
  {
   "cell_type": "markdown",
   "metadata": {
    "id": "AgPTr4Uh4ksu"
   },
   "source": [
    "# Customized Fully connected layer"
   ]
  },
  {
   "cell_type": "markdown",
   "metadata": {
    "id": "wxkjTe2C4qbG"
   },
   "source": [
    "Let's build a Tensorflow Keras layer in which a standard activation outputs from linear combinations of inputs with weights and biases (first output), is multiplied to a vector of weights called 'adapter' (second output).\n",
    "\n",
    "This new vector may variate the importance of the first output towards the next layers"
   ]
  },
  {
   "cell_type": "code",
   "execution_count": 1,
   "metadata": {
    "id": "jEwM25tscEH7"
   },
   "outputs": [
    {
     "name": "stderr",
     "output_type": "stream",
     "text": [
      "C:\\Users\\marsu\\anaconda3\\lib\\site-packages\\h5py\\__init__.py:36: UserWarning: h5py is running against HDF5 1.12.2 when it was built against 1.12.1, this may cause problems\n",
      "  _warn((\"h5py is running against HDF5 {0} when it was built against {1}, \"\n"
     ]
    }
   ],
   "source": [
    "from sklearn.datasets import make_regression\n",
    "from sklearn.model_selection import train_test_split\n",
    "import tensorflow as tf\n",
    "from tensorflow import keras\n",
    "from keras import layers, activations, losses\n",
    "import pandas as pd\n",
    "from matplotlib import pyplot as plt"
   ]
  },
  {
   "cell_type": "markdown",
   "metadata": {
    "id": "5GRDM2gs7pGH"
   },
   "source": [
    "## Build example data"
   ]
  },
  {
   "cell_type": "code",
   "execution_count": 2,
   "metadata": {
    "id": "LGiRNKzWclyV"
   },
   "outputs": [],
   "source": [
    "m = 10000\n",
    "p = 4\n",
    "random_state = 117\n",
    "X, y = make_regression(m, \n",
    "                       p, \n",
    "                       n_informative=3, \n",
    "                       n_targets=1, \n",
    "                       bias=1.0, \n",
    "                       random_state=random_state)"
   ]
  },
  {
   "cell_type": "markdown",
   "metadata": {
    "id": "zT6K3hGd7r7b"
   },
   "source": [
    "Setup the class layer with adapter. First, in the build() method, a new weight is setup and called the adapter. Lastly, in the call() method, the adapter weight is simply multiplied to the activation output."
   ]
  },
  {
   "cell_type": "markdown",
   "metadata": {},
   "source": [
    "Class Layer for adaptive activation"
   ]
  },
  {
   "cell_type": "code",
   "execution_count": 3,
   "metadata": {
    "id": "udTLVxMEfRhB"
   },
   "outputs": [],
   "source": [
    "class AdaptiveActivation(layers.Layer):\n",
    "  def __init__ (self, units=32, input_dim=32):\n",
    "    super(AdaptiveActivation, self).__init__()\n",
    "    self.units = units\n",
    "    self.adapter = None\n",
    "  def build(self, input_shape):\n",
    "    # Weights setup\n",
    "    self.w = self.add_weight(shape=(input_shape[-1], self.units),\n",
    "                             initializer=\"random_normal\",\n",
    "                             trainable=True,\n",
    "                             name='weights',\n",
    "                             )\n",
    "    # Biases setup\n",
    "    self.b = self.add_weight(shape=(self.units,),\n",
    "                             initializer=tf.zeros_initializer(),\n",
    "                             trainable=True,\n",
    "                             name='bias',\n",
    "                             )\n",
    "    # Adapter setup\n",
    "    self.adapter = self.add_weight(shape=(self.units,),\n",
    "                                   initializer=tf.random_normal_initializer(),\n",
    "                                   trainable=True,\n",
    "                                   name='adapters',\n",
    "                                   )\n",
    "  def call(self, inputs):\n",
    "    output_linear = tf.matmul(inputs, self.w) + self.b\n",
    "    return self.adapter * activations.relu(output_linear)"
   ]
  },
  {
   "cell_type": "code",
   "execution_count": 4,
   "metadata": {
    "id": "siZnIgdAjnpz"
   },
   "outputs": [],
   "source": [
    "x = tf.ones((2, 2))\n",
    "customActivation_layer = AdaptiveActivation(32)\n",
    "out = customActivation_layer(x)"
   ]
  },
  {
   "cell_type": "markdown",
   "metadata": {
    "id": "9kjtjvq3llcH"
   },
   "source": [
    "### Define custom model"
   ]
  },
  {
   "cell_type": "code",
   "execution_count": 5,
   "metadata": {
    "id": "ozmXKcZwhUcJ"
   },
   "outputs": [
    {
     "name": "stdout",
     "output_type": "stream",
     "text": [
      "Model: \"sequential\"\n",
      "_________________________________________________________________\n",
      " Layer (type)                Output Shape              Param #   \n",
      "=================================================================\n",
      " adaptive_activation_1 (Adap  (None, 16)               96        \n",
      " tiveActivation)                                                 \n",
      "                                                                 \n",
      " dense (Dense)               (None, 1)                 17        \n",
      "                                                                 \n",
      "=================================================================\n",
      "Total params: 113\n",
      "Trainable params: 113\n",
      "Non-trainable params: 0\n",
      "_________________________________________________________________\n"
     ]
    }
   ],
   "source": [
    "model_adaptive = keras.Sequential()\n",
    "model_adaptive.add(keras.Input(shape=(p, )))\n",
    "model_adaptive.add(AdaptiveActivation(16))\n",
    "model_adaptive.add(layers.Dense(1, \n",
    "                                activation='linear'))\n",
    "\n",
    "model_adaptive.summary()"
   ]
  },
  {
   "cell_type": "markdown",
   "metadata": {
    "id": "Y9MvZBDJlf6T"
   },
   "source": [
    "### Define base model for comparing"
   ]
  },
  {
   "cell_type": "code",
   "execution_count": 6,
   "metadata": {
    "id": "HOUEZpwolan4"
   },
   "outputs": [
    {
     "name": "stdout",
     "output_type": "stream",
     "text": [
      "Model: \"sequential_1\"\n",
      "_________________________________________________________________\n",
      " Layer (type)                Output Shape              Param #   \n",
      "=================================================================\n",
      " dense_1 (Dense)             (None, 16)                80        \n",
      "                                                                 \n",
      " dense_2 (Dense)             (None, 1)                 17        \n",
      "                                                                 \n",
      "=================================================================\n",
      "Total params: 97\n",
      "Trainable params: 97\n",
      "Non-trainable params: 0\n",
      "_________________________________________________________________\n"
     ]
    }
   ],
   "source": [
    "model_base = keras.Sequential()\n",
    "model_base.add(keras.Input(shape=(p, )))\n",
    "model_base.add(layers.Dense(16, \n",
    "                            activation='relu'))\n",
    "model_base.add(layers.Dense(1, \n",
    "                            activation='linear'))\n",
    "\n",
    "model_base.summary()"
   ]
  },
  {
   "cell_type": "markdown",
   "metadata": {},
   "source": [
    "### Training and test sets"
   ]
  },
  {
   "cell_type": "code",
   "execution_count": 7,
   "metadata": {
    "id": "Rj3D06Sxk7h4"
   },
   "outputs": [
    {
     "data": {
      "text/plain": [
       "((9000, 4), (9000,), (1000, 4), (1000,))"
      ]
     },
     "execution_count": 7,
     "metadata": {},
     "output_type": "execute_result"
    }
   ],
   "source": [
    "X_train, X_test, y_train, y_test = train_test_split(X,\n",
    "                                                    y,\n",
    "                                                    test_size=0.1,\n",
    "                                                    random_state=random_state)\n",
    "X_train.shape, y_train.shape, X_test.shape, y_test.shape"
   ]
  },
  {
   "cell_type": "markdown",
   "metadata": {},
   "source": [
    "### Callback and models compilation"
   ]
  },
  {
   "cell_type": "code",
   "execution_count": 8,
   "metadata": {
    "id": "s6H9qoiWpYZY"
   },
   "outputs": [],
   "source": [
    "callback = keras.callbacks.EarlyStopping(monitor='val_loss', \n",
    "                                         min_delta=0.1, \n",
    "                                         patience=10, \n",
    "                                         verbose=0)\n",
    "model_adaptive.compile(optimizer='rmsprop', \n",
    "                       loss=losses.mse, \n",
    "                       metrics=losses.mae)\n",
    "model_base.compile(optimizer='rmsprop', \n",
    "                   loss=losses.mse, \n",
    "                   metrics=losses.mae)"
   ]
  },
  {
   "cell_type": "markdown",
   "metadata": {},
   "source": [
    "### Training"
   ]
  },
  {
   "cell_type": "markdown",
   "metadata": {},
   "source": [
    "Adaptive model"
   ]
  },
  {
   "cell_type": "code",
   "execution_count": 10,
   "metadata": {
    "colab": {
     "base_uri": "https://localhost:8080/"
    },
    "id": "ImByrq-rmW5J",
    "outputId": "b97b6c13-f9f6-4df2-b5d7-b61f449a7956"
   },
   "outputs": [
    {
     "name": "stdout",
     "output_type": "stream",
     "text": [
      "Epoch 1/100\n",
      "127/127 - 1s - loss: 16635.2930 - mean_absolute_error: 103.0820 - val_loss: 16145.5488 - val_mean_absolute_error: 101.0150 - 546ms/epoch - 4ms/step\n",
      "Epoch 2/100\n",
      "127/127 - 0s - loss: 16542.4688 - mean_absolute_error: 102.7695 - val_loss: 15987.0791 - val_mean_absolute_error: 100.4806 - 120ms/epoch - 945us/step\n",
      "Epoch 3/100\n",
      "127/127 - 0s - loss: 16313.6357 - mean_absolute_error: 101.9958 - val_loss: 15663.6533 - val_mean_absolute_error: 99.3801 - 121ms/epoch - 953us/step\n",
      "Epoch 4/100\n",
      "127/127 - 0s - loss: 15900.3506 - mean_absolute_error: 100.5778 - val_loss: 15124.3330 - val_mean_absolute_error: 97.5137 - 114ms/epoch - 898us/step\n",
      "Epoch 5/100\n",
      "127/127 - 0s - loss: 15266.1260 - mean_absolute_error: 98.3753 - val_loss: 14352.7188 - val_mean_absolute_error: 94.7758 - 117ms/epoch - 921us/step\n",
      "Epoch 6/100\n",
      "127/127 - 0s - loss: 14389.5820 - mean_absolute_error: 95.2094 - val_loss: 13314.3486 - val_mean_absolute_error: 90.9331 - 119ms/epoch - 937us/step\n",
      "Epoch 7/100\n",
      "127/127 - 0s - loss: 13252.4600 - mean_absolute_error: 90.9712 - val_loss: 12035.1562 - val_mean_absolute_error: 85.9253 - 120ms/epoch - 945us/step\n",
      "Epoch 8/100\n",
      "127/127 - 0s - loss: 11883.0898 - mean_absolute_error: 85.5377 - val_loss: 10525.4141 - val_mean_absolute_error: 79.6370 - 119ms/epoch - 937us/step\n",
      "Epoch 9/100\n",
      "127/127 - 0s - loss: 10334.0234 - mean_absolute_error: 78.9096 - val_loss: 8891.1504 - val_mean_absolute_error: 72.2542 - 114ms/epoch - 898us/step\n",
      "Epoch 10/100\n",
      "127/127 - 0s - loss: 8680.7275 - mean_absolute_error: 71.2321 - val_loss: 7244.4507 - val_mean_absolute_error: 64.1090 - 115ms/epoch - 906us/step\n",
      "Epoch 11/100\n",
      "127/127 - 0s - loss: 7081.3901 - mean_absolute_error: 62.8898 - val_loss: 5737.2212 - val_mean_absolute_error: 55.8054 - 112ms/epoch - 882us/step\n",
      "Epoch 12/100\n",
      "127/127 - 0s - loss: 5641.7739 - mean_absolute_error: 54.4609 - val_loss: 4445.0449 - val_mean_absolute_error: 47.5353 - 118ms/epoch - 929us/step\n",
      "Epoch 13/100\n",
      "127/127 - 0s - loss: 4384.0151 - mean_absolute_error: 46.1371 - val_loss: 3363.0220 - val_mean_absolute_error: 39.4619 - 118ms/epoch - 929us/step\n",
      "Epoch 14/100\n",
      "127/127 - 0s - loss: 3308.6821 - mean_absolute_error: 38.2147 - val_loss: 2472.4270 - val_mean_absolute_error: 32.0432 - 121ms/epoch - 953us/step\n",
      "Epoch 15/100\n",
      "127/127 - 0s - loss: 2391.9812 - mean_absolute_error: 30.4352 - val_loss: 1727.2915 - val_mean_absolute_error: 24.9456 - 114ms/epoch - 898us/step\n",
      "Epoch 16/100\n",
      "127/127 - 0s - loss: 1619.6281 - mean_absolute_error: 23.6753 - val_loss: 1136.4495 - val_mean_absolute_error: 19.6048 - 113ms/epoch - 890us/step\n",
      "Epoch 17/100\n",
      "127/127 - 0s - loss: 1039.6002 - mean_absolute_error: 19.4613 - val_loss: 728.7142 - val_mean_absolute_error: 17.0114 - 118ms/epoch - 929us/step\n",
      "Epoch 18/100\n",
      "127/127 - 0s - loss: 654.6336 - mean_absolute_error: 17.1454 - val_loss: 504.8410 - val_mean_absolute_error: 16.0953 - 112ms/epoch - 884us/step\n",
      "Epoch 19/100\n",
      "127/127 - 0s - loss: 474.8838 - mean_absolute_error: 16.2501 - val_loss: 427.0341 - val_mean_absolute_error: 15.9502 - 111ms/epoch - 875us/step\n",
      "Epoch 20/100\n",
      "127/127 - 0s - loss: 407.4203 - mean_absolute_error: 15.8529 - val_loss: 391.3674 - val_mean_absolute_error: 15.6220 - 111ms/epoch - 876us/step\n",
      "Epoch 21/100\n",
      "127/127 - 0s - loss: 373.6204 - mean_absolute_error: 15.4315 - val_loss: 372.3817 - val_mean_absolute_error: 15.4151 - 104ms/epoch - 820us/step\n",
      "Epoch 22/100\n",
      "127/127 - 0s - loss: 352.0891 - mean_absolute_error: 15.1840 - val_loss: 355.1183 - val_mean_absolute_error: 15.1995 - 104ms/epoch - 820us/step\n",
      "Epoch 23/100\n",
      "127/127 - 0s - loss: 336.9133 - mean_absolute_error: 14.9431 - val_loss: 341.2361 - val_mean_absolute_error: 15.0874 - 104ms/epoch - 819us/step\n",
      "Epoch 24/100\n",
      "127/127 - 0s - loss: 323.9352 - mean_absolute_error: 14.7126 - val_loss: 328.8817 - val_mean_absolute_error: 14.9986 - 120ms/epoch - 946us/step\n",
      "Epoch 25/100\n",
      "127/127 - 0s - loss: 309.8549 - mean_absolute_error: 14.5041 - val_loss: 317.5067 - val_mean_absolute_error: 14.5996 - 115ms/epoch - 906us/step\n",
      "Epoch 26/100\n",
      "127/127 - 0s - loss: 294.6990 - mean_absolute_error: 14.1840 - val_loss: 297.7218 - val_mean_absolute_error: 14.2746 - 108ms/epoch - 852us/step\n",
      "Epoch 27/100\n",
      "127/127 - 0s - loss: 277.4695 - mean_absolute_error: 13.8064 - val_loss: 278.5297 - val_mean_absolute_error: 13.8691 - 123ms/epoch - 968us/step\n",
      "Epoch 28/100\n",
      "127/127 - 0s - loss: 256.8657 - mean_absolute_error: 13.3359 - val_loss: 257.2332 - val_mean_absolute_error: 13.3381 - 114ms/epoch - 900us/step\n",
      "Epoch 29/100\n",
      "127/127 - 0s - loss: 234.8262 - mean_absolute_error: 12.7873 - val_loss: 231.6993 - val_mean_absolute_error: 12.7359 - 108ms/epoch - 850us/step\n",
      "Epoch 30/100\n",
      "127/127 - 0s - loss: 211.1602 - mean_absolute_error: 12.1729 - val_loss: 205.7787 - val_mean_absolute_error: 11.9688 - 135ms/epoch - 1ms/step\n",
      "Epoch 31/100\n",
      "127/127 - 0s - loss: 185.6282 - mean_absolute_error: 11.4131 - val_loss: 177.8825 - val_mean_absolute_error: 11.1996 - 113ms/epoch - 890us/step\n",
      "Epoch 32/100\n",
      "127/127 - 0s - loss: 158.5793 - mean_absolute_error: 10.5726 - val_loss: 148.6022 - val_mean_absolute_error: 10.2264 - 113ms/epoch - 890us/step\n",
      "Epoch 33/100\n",
      "127/127 - 0s - loss: 130.3235 - mean_absolute_error: 9.5743 - val_loss: 119.7511 - val_mean_absolute_error: 9.1583 - 118ms/epoch - 929us/step\n",
      "Epoch 34/100\n",
      "127/127 - 0s - loss: 103.3207 - mean_absolute_error: 8.5201 - val_loss: 92.1141 - val_mean_absolute_error: 7.9690 - 118ms/epoch - 931us/step\n",
      "Epoch 35/100\n",
      "127/127 - 0s - loss: 78.1646 - mean_absolute_error: 7.3359 - val_loss: 66.9648 - val_mean_absolute_error: 6.7267 - 119ms/epoch - 935us/step\n",
      "Epoch 36/100\n",
      "127/127 - 0s - loss: 55.9159 - mean_absolute_error: 6.0633 - val_loss: 46.1226 - val_mean_absolute_error: 5.4458 - 113ms/epoch - 890us/step\n",
      "Epoch 37/100\n",
      "127/127 - 0s - loss: 37.2600 - mean_absolute_error: 4.7365 - val_loss: 29.2468 - val_mean_absolute_error: 4.0159 - 116ms/epoch - 913us/step\n",
      "Epoch 38/100\n",
      "127/127 - 0s - loss: 23.2162 - mean_absolute_error: 3.4330 - val_loss: 17.7197 - val_mean_absolute_error: 2.7956 - 115ms/epoch - 906us/step\n",
      "Epoch 39/100\n",
      "127/127 - 0s - loss: 13.8794 - mean_absolute_error: 2.4927 - val_loss: 10.5722 - val_mean_absolute_error: 2.1917 - 116ms/epoch - 913us/step\n",
      "Epoch 40/100\n",
      "127/127 - 0s - loss: 7.8876 - mean_absolute_error: 1.9251 - val_loss: 5.8770 - val_mean_absolute_error: 1.6431 - 112ms/epoch - 882us/step\n",
      "Epoch 41/100\n",
      "127/127 - 0s - loss: 4.1267 - mean_absolute_error: 1.3952 - val_loss: 2.8815 - val_mean_absolute_error: 1.1526 - 110ms/epoch - 866us/step\n",
      "Epoch 42/100\n",
      "127/127 - 0s - loss: 1.9342 - mean_absolute_error: 0.9508 - val_loss: 1.3530 - val_mean_absolute_error: 0.7608 - 111ms/epoch - 874us/step\n",
      "Epoch 43/100\n",
      "127/127 - 0s - loss: 0.8972 - mean_absolute_error: 0.6298 - val_loss: 0.6691 - val_mean_absolute_error: 0.5536 - 111ms/epoch - 874us/step\n",
      "Epoch 44/100\n",
      "127/127 - 0s - loss: 0.4731 - mean_absolute_error: 0.4409 - val_loss: 0.3923 - val_mean_absolute_error: 0.3685 - 108ms/epoch - 850us/step\n",
      "Epoch 45/100\n",
      "127/127 - 0s - loss: 0.2802 - mean_absolute_error: 0.3353 - val_loss: 0.2488 - val_mean_absolute_error: 0.3064 - 107ms/epoch - 843us/step\n",
      "Epoch 46/100\n",
      "127/127 - 0s - loss: 0.1769 - mean_absolute_error: 0.2622 - val_loss: 0.1695 - val_mean_absolute_error: 0.2598 - 108ms/epoch - 850us/step\n",
      "Epoch 47/100\n",
      "127/127 - 0s - loss: 0.1198 - mean_absolute_error: 0.2183 - val_loss: 0.1178 - val_mean_absolute_error: 0.1975 - 111ms/epoch - 874us/step\n",
      "Epoch 48/100\n",
      "127/127 - 0s - loss: 0.0847 - mean_absolute_error: 0.1819 - val_loss: 0.0829 - val_mean_absolute_error: 0.1819 - 109ms/epoch - 858us/step\n",
      "Epoch 49/100\n",
      "127/127 - 0s - loss: 0.0607 - mean_absolute_error: 0.1575 - val_loss: 0.0593 - val_mean_absolute_error: 0.1283 - 108ms/epoch - 850us/step\n",
      "Epoch 50/100\n",
      "127/127 - 0s - loss: 0.0464 - mean_absolute_error: 0.1366 - val_loss: 0.0397 - val_mean_absolute_error: 0.1105 - 109ms/epoch - 858us/step\n",
      "Epoch 51/100\n",
      "127/127 - 0s - loss: 0.0373 - mean_absolute_error: 0.1241 - val_loss: 0.0375 - val_mean_absolute_error: 0.1216 - 107ms/epoch - 843us/step\n",
      "Epoch 52/100\n",
      "127/127 - 0s - loss: 0.0318 - mean_absolute_error: 0.1159 - val_loss: 0.0285 - val_mean_absolute_error: 0.1050 - 108ms/epoch - 850us/step\n",
      "Epoch 53/100\n",
      "127/127 - 0s - loss: 0.0274 - mean_absolute_error: 0.1082 - val_loss: 0.0338 - val_mean_absolute_error: 0.1358 - 110ms/epoch - 866us/step\n"
     ]
    },
    {
     "name": "stdout",
     "output_type": "stream",
     "text": [
      "Epoch 54/100\n",
      "127/127 - 0s - loss: 0.0252 - mean_absolute_error: 0.1065 - val_loss: 0.0211 - val_mean_absolute_error: 0.0882 - 108ms/epoch - 853us/step\n",
      "Epoch 55/100\n",
      "127/127 - 0s - loss: 0.0233 - mean_absolute_error: 0.1007 - val_loss: 0.0226 - val_mean_absolute_error: 0.0947 - 108ms/epoch - 854us/step\n",
      "Epoch 56/100\n",
      "127/127 - 0s - loss: 0.0219 - mean_absolute_error: 0.0960 - val_loss: 0.0237 - val_mean_absolute_error: 0.1083 - 108ms/epoch - 852us/step\n",
      "Epoch 57/100\n",
      "127/127 - 0s - loss: 0.0213 - mean_absolute_error: 0.0923 - val_loss: 0.0454 - val_mean_absolute_error: 0.1440 - 109ms/epoch - 861us/step\n",
      "time taken: 7.034847259521484\n"
     ]
    }
   ],
   "source": [
    "import time\n",
    "start_time = time.time()\n",
    "\n",
    "epochs = 100\n",
    "h_adaptive = model_adaptive.fit(X_train, y_train,\n",
    "                                epochs=epochs,\n",
    "                                batch_size=64,\n",
    "                                validation_split=0.1,\n",
    "                                verbose=2,\n",
    "                                callbacks=[callback]\n",
    "                               )\n",
    "\n",
    "print(\"time taken:\", time.time() - start_time)"
   ]
  },
  {
   "cell_type": "markdown",
   "metadata": {},
   "source": [
    "Standard FCN "
   ]
  },
  {
   "cell_type": "code",
   "execution_count": 11,
   "metadata": {
    "colab": {
     "base_uri": "https://localhost:8080/"
    },
    "id": "MFcCRfwImoZA",
    "outputId": "421f37ce-d825-4ffc-a9a5-fda515762e6e"
   },
   "outputs": [
    {
     "name": "stdout",
     "output_type": "stream",
     "text": [
      "Epoch 1/100\n",
      "127/127 - 0s - loss: 16607.4004 - mean_absolute_error: 102.9887 - val_loss: 16021.8301 - val_mean_absolute_error: 100.6137 - 437ms/epoch - 3ms/step\n",
      "Epoch 2/100\n",
      "127/127 - 0s - loss: 16355.9229 - mean_absolute_error: 102.1811 - val_loss: 15754.0498 - val_mean_absolute_error: 99.7411 - 109ms/epoch - 858us/step\n",
      "Epoch 3/100\n",
      "127/127 - 0s - loss: 16046.7881 - mean_absolute_error: 101.1696 - val_loss: 15401.8486 - val_mean_absolute_error: 98.5607 - 110ms/epoch - 866us/step\n",
      "Epoch 4/100\n",
      "127/127 - 0s - loss: 15635.6797 - mean_absolute_error: 99.7902 - val_loss: 14936.3857 - val_mean_absolute_error: 96.9591 - 109ms/epoch - 858us/step\n",
      "Epoch 5/100\n",
      "127/127 - 0s - loss: 15103.2168 - mean_absolute_error: 97.9602 - val_loss: 14354.4258 - val_mean_absolute_error: 94.9025 - 111ms/epoch - 874us/step\n",
      "Epoch 6/100\n",
      "127/127 - 0s - loss: 14446.0986 - mean_absolute_error: 95.6796 - val_loss: 13657.2002 - val_mean_absolute_error: 92.3751 - 113ms/epoch - 890us/step\n",
      "Epoch 7/100\n",
      "127/127 - 0s - loss: 13694.5596 - mean_absolute_error: 92.9688 - val_loss: 12867.2041 - val_mean_absolute_error: 89.4313 - 113ms/epoch - 890us/step\n",
      "Epoch 8/100\n",
      "127/127 - 0s - loss: 12843.6338 - mean_absolute_error: 89.8105 - val_loss: 11997.1562 - val_mean_absolute_error: 86.0761 - 113ms/epoch - 891us/step\n",
      "Epoch 9/100\n",
      "127/127 - 0s - loss: 11926.1494 - mean_absolute_error: 86.2713 - val_loss: 11063.2051 - val_mean_absolute_error: 82.3278 - 109ms/epoch - 858us/step\n",
      "Epoch 10/100\n",
      "127/127 - 0s - loss: 10933.6904 - mean_absolute_error: 82.2971 - val_loss: 10068.0576 - val_mean_absolute_error: 78.1718 - 109ms/epoch - 858us/step\n",
      "Epoch 11/100\n",
      "127/127 - 0s - loss: 9898.9805 - mean_absolute_error: 77.9661 - val_loss: 9040.7432 - val_mean_absolute_error: 73.6703 - 107ms/epoch - 843us/step\n",
      "Epoch 12/100\n",
      "127/127 - 0s - loss: 8831.5205 - mean_absolute_error: 73.2699 - val_loss: 7993.5234 - val_mean_absolute_error: 68.8061 - 109ms/epoch - 858us/step\n",
      "Epoch 13/100\n",
      "127/127 - 0s - loss: 7755.4795 - mean_absolute_error: 68.2023 - val_loss: 6941.2090 - val_mean_absolute_error: 63.5969 - 109ms/epoch - 858us/step\n",
      "Epoch 14/100\n",
      "127/127 - 0s - loss: 6681.8462 - mean_absolute_error: 62.8292 - val_loss: 5911.7856 - val_mean_absolute_error: 58.1644 - 107ms/epoch - 843us/step\n",
      "Epoch 15/100\n",
      "127/127 - 0s - loss: 5634.8740 - mean_absolute_error: 57.1364 - val_loss: 4914.8340 - val_mean_absolute_error: 52.4582 - 106ms/epoch - 835us/step\n",
      "Epoch 16/100\n",
      "127/127 - 0s - loss: 4622.6958 - mean_absolute_error: 51.1198 - val_loss: 3962.8582 - val_mean_absolute_error: 46.5213 - 108ms/epoch - 850us/step\n",
      "Epoch 17/100\n",
      "127/127 - 0s - loss: 3675.1948 - mean_absolute_error: 44.9077 - val_loss: 3089.7048 - val_mean_absolute_error: 40.5027 - 114ms/epoch - 898us/step\n",
      "Epoch 18/100\n",
      "127/127 - 0s - loss: 2820.8909 - mean_absolute_error: 38.6115 - val_loss: 2314.4319 - val_mean_absolute_error: 34.4036 - 111ms/epoch - 874us/step\n",
      "Epoch 19/100\n",
      "127/127 - 0s - loss: 2080.8132 - mean_absolute_error: 32.3870 - val_loss: 1660.9485 - val_mean_absolute_error: 28.5424 - 108ms/epoch - 850us/step\n",
      "Epoch 20/100\n",
      "127/127 - 0s - loss: 1451.7396 - mean_absolute_error: 26.5333 - val_loss: 1136.1201 - val_mean_absolute_error: 23.1653 - 109ms/epoch - 858us/step\n",
      "Epoch 21/100\n",
      "127/127 - 0s - loss: 983.5178 - mean_absolute_error: 21.5243 - val_loss: 760.1633 - val_mean_absolute_error: 18.9459 - 117ms/epoch - 921us/step\n",
      "Epoch 22/100\n",
      "127/127 - 0s - loss: 656.0058 - mean_absolute_error: 17.6515 - val_loss: 521.2566 - val_mean_absolute_error: 16.1328 - 111ms/epoch - 874us/step\n",
      "Epoch 23/100\n",
      "127/127 - 0s - loss: 458.5305 - mean_absolute_error: 15.4219 - val_loss: 398.3084 - val_mean_absolute_error: 14.8597 - 111ms/epoch - 874us/step\n",
      "Epoch 24/100\n",
      "127/127 - 0s - loss: 370.3084 - mean_absolute_error: 14.7056 - val_loss: 359.3349 - val_mean_absolute_error: 14.9715 - 113ms/epoch - 890us/step\n",
      "Epoch 25/100\n",
      "127/127 - 0s - loss: 345.4299 - mean_absolute_error: 14.7186 - val_loss: 352.0686 - val_mean_absolute_error: 15.0947 - 111ms/epoch - 874us/step\n",
      "Epoch 26/100\n",
      "127/127 - 0s - loss: 338.5061 - mean_absolute_error: 14.7506 - val_loss: 348.2791 - val_mean_absolute_error: 14.9765 - 111ms/epoch - 874us/step\n",
      "Epoch 27/100\n",
      "127/127 - 0s - loss: 333.5203 - mean_absolute_error: 14.5980 - val_loss: 344.4236 - val_mean_absolute_error: 14.9483 - 107ms/epoch - 840us/step\n",
      "Epoch 28/100\n",
      "127/127 - 0s - loss: 328.2051 - mean_absolute_error: 14.5411 - val_loss: 338.6918 - val_mean_absolute_error: 14.8088 - 111ms/epoch - 872us/step\n",
      "Epoch 29/100\n",
      "127/127 - 0s - loss: 322.6170 - mean_absolute_error: 14.3987 - val_loss: 333.1211 - val_mean_absolute_error: 14.7441 - 104ms/epoch - 820us/step\n",
      "Epoch 30/100\n",
      "127/127 - 0s - loss: 316.3065 - mean_absolute_error: 14.3025 - val_loss: 326.2045 - val_mean_absolute_error: 14.5355 - 112ms/epoch - 882us/step\n",
      "Epoch 31/100\n",
      "127/127 - 0s - loss: 309.2958 - mean_absolute_error: 14.0856 - val_loss: 318.2113 - val_mean_absolute_error: 14.4508 - 118ms/epoch - 927us/step\n",
      "Epoch 32/100\n",
      "127/127 - 0s - loss: 301.8895 - mean_absolute_error: 13.9713 - val_loss: 310.2616 - val_mean_absolute_error: 14.2510 - 110ms/epoch - 868us/step\n",
      "Epoch 33/100\n",
      "127/127 - 0s - loss: 293.5274 - mean_absolute_error: 13.7531 - val_loss: 301.0922 - val_mean_absolute_error: 14.0447 - 111ms/epoch - 872us/step\n",
      "Epoch 34/100\n",
      "127/127 - 0s - loss: 284.2670 - mean_absolute_error: 13.5357 - val_loss: 290.4882 - val_mean_absolute_error: 13.7326 - 113ms/epoch - 887us/step\n",
      "Epoch 35/100\n",
      "127/127 - 0s - loss: 274.1930 - mean_absolute_error: 13.2560 - val_loss: 280.1313 - val_mean_absolute_error: 13.4686 - 110ms/epoch - 867us/step\n",
      "Epoch 36/100\n",
      "127/127 - 0s - loss: 263.9184 - mean_absolute_error: 12.9631 - val_loss: 269.0867 - val_mean_absolute_error: 13.1479 - 117ms/epoch - 922us/step\n",
      "Epoch 37/100\n",
      "127/127 - 0s - loss: 252.9037 - mean_absolute_error: 12.6438 - val_loss: 258.6790 - val_mean_absolute_error: 12.9024 - 109ms/epoch - 858us/step\n",
      "Epoch 38/100\n",
      "127/127 - 0s - loss: 241.3471 - mean_absolute_error: 12.3515 - val_loss: 244.0450 - val_mean_absolute_error: 12.4712 - 109ms/epoch - 858us/step\n",
      "Epoch 39/100\n",
      "127/127 - 0s - loss: 229.0959 - mean_absolute_error: 11.9820 - val_loss: 230.7799 - val_mean_absolute_error: 12.0819 - 109ms/epoch - 858us/step\n",
      "Epoch 40/100\n",
      "127/127 - 0s - loss: 216.7134 - mean_absolute_error: 11.6018 - val_loss: 217.8819 - val_mean_absolute_error: 11.7252 - 108ms/epoch - 852us/step\n",
      "Epoch 41/100\n",
      "127/127 - 0s - loss: 204.4573 - mean_absolute_error: 11.2337 - val_loss: 205.6581 - val_mean_absolute_error: 11.2986 - 111ms/epoch - 875us/step\n",
      "Epoch 42/100\n",
      "127/127 - 0s - loss: 191.9041 - mean_absolute_error: 10.8171 - val_loss: 192.0092 - val_mean_absolute_error: 10.9404 - 112ms/epoch - 878us/step\n",
      "Epoch 43/100\n",
      "127/127 - 0s - loss: 178.8418 - mean_absolute_error: 10.3888 - val_loss: 178.0073 - val_mean_absolute_error: 10.4693 - 118ms/epoch - 926us/step\n",
      "Epoch 44/100\n",
      "127/127 - 0s - loss: 166.7329 - mean_absolute_error: 9.9659 - val_loss: 165.1358 - val_mean_absolute_error: 9.9875 - 114ms/epoch - 897us/step\n",
      "Epoch 45/100\n",
      "127/127 - 0s - loss: 154.2790 - mean_absolute_error: 9.5758 - val_loss: 152.5143 - val_mean_absolute_error: 9.5378 - 111ms/epoch - 874us/step\n",
      "Epoch 46/100\n",
      "127/127 - 0s - loss: 142.1036 - mean_absolute_error: 9.1104 - val_loss: 139.5948 - val_mean_absolute_error: 9.0828 - 112ms/epoch - 882us/step\n",
      "Epoch 47/100\n",
      "127/127 - 0s - loss: 129.9849 - mean_absolute_error: 8.6303 - val_loss: 127.6018 - val_mean_absolute_error: 8.7212 - 111ms/epoch - 874us/step\n",
      "Epoch 48/100\n",
      "127/127 - 0s - loss: 118.5039 - mean_absolute_error: 8.2658 - val_loss: 115.5136 - val_mean_absolute_error: 8.1135 - 109ms/epoch - 858us/step\n",
      "Epoch 49/100\n",
      "127/127 - 0s - loss: 107.5852 - mean_absolute_error: 7.7749 - val_loss: 103.9492 - val_mean_absolute_error: 7.6818 - 116ms/epoch - 913us/step\n",
      "Epoch 50/100\n",
      "127/127 - 0s - loss: 96.5886 - mean_absolute_error: 7.3381 - val_loss: 92.5406 - val_mean_absolute_error: 7.2155 - 111ms/epoch - 875us/step\n",
      "Epoch 51/100\n",
      "127/127 - 0s - loss: 86.4074 - mean_absolute_error: 6.8678 - val_loss: 82.4633 - val_mean_absolute_error: 6.8449 - 107ms/epoch - 843us/step\n",
      "Epoch 52/100\n",
      "127/127 - 0s - loss: 76.5726 - mean_absolute_error: 6.4540 - val_loss: 72.7216 - val_mean_absolute_error: 6.3257 - 108ms/epoch - 850us/step\n"
     ]
    },
    {
     "name": "stdout",
     "output_type": "stream",
     "text": [
      "Epoch 53/100\n",
      "127/127 - 0s - loss: 67.4850 - mean_absolute_error: 5.9918 - val_loss: 63.7967 - val_mean_absolute_error: 5.9710 - 109ms/epoch - 858us/step\n",
      "Epoch 54/100\n",
      "127/127 - 0s - loss: 58.9102 - mean_absolute_error: 5.5653 - val_loss: 55.0786 - val_mean_absolute_error: 5.5493 - 109ms/epoch - 858us/step\n",
      "Epoch 55/100\n",
      "127/127 - 0s - loss: 51.2375 - mean_absolute_error: 5.1850 - val_loss: 48.2067 - val_mean_absolute_error: 5.0182 - 108ms/epoch - 850us/step\n",
      "Epoch 56/100\n",
      "127/127 - 0s - loss: 44.3555 - mean_absolute_error: 4.7306 - val_loss: 41.0980 - val_mean_absolute_error: 4.6276 - 109ms/epoch - 858us/step\n",
      "Epoch 57/100\n",
      "127/127 - 0s - loss: 37.9330 - mean_absolute_error: 4.3308 - val_loss: 35.0231 - val_mean_absolute_error: 4.2452 - 109ms/epoch - 858us/step\n",
      "Epoch 58/100\n",
      "127/127 - 0s - loss: 32.1346 - mean_absolute_error: 3.9498 - val_loss: 29.4426 - val_mean_absolute_error: 3.8510 - 112ms/epoch - 882us/step\n",
      "Epoch 59/100\n",
      "127/127 - 0s - loss: 27.1858 - mean_absolute_error: 3.5853 - val_loss: 24.7541 - val_mean_absolute_error: 3.5115 - 109ms/epoch - 858us/step\n",
      "Epoch 60/100\n",
      "127/127 - 0s - loss: 22.8105 - mean_absolute_error: 3.2526 - val_loss: 20.6453 - val_mean_absolute_error: 3.2314 - 108ms/epoch - 850us/step\n",
      "Epoch 61/100\n",
      "127/127 - 0s - loss: 19.1943 - mean_absolute_error: 2.9845 - val_loss: 17.4159 - val_mean_absolute_error: 2.9577 - 109ms/epoch - 858us/step\n",
      "Epoch 62/100\n",
      "127/127 - 0s - loss: 16.3385 - mean_absolute_error: 2.7494 - val_loss: 14.7636 - val_mean_absolute_error: 2.7211 - 108ms/epoch - 852us/step\n",
      "Epoch 63/100\n",
      "127/127 - 0s - loss: 14.0819 - mean_absolute_error: 2.5701 - val_loss: 12.7708 - val_mean_absolute_error: 2.5070 - 104ms/epoch - 820us/step\n",
      "Epoch 64/100\n",
      "127/127 - 0s - loss: 12.3574 - mean_absolute_error: 2.4121 - val_loss: 11.3507 - val_mean_absolute_error: 2.3632 - 104ms/epoch - 821us/step\n",
      "Epoch 65/100\n",
      "127/127 - 0s - loss: 11.0538 - mean_absolute_error: 2.2856 - val_loss: 10.3066 - val_mean_absolute_error: 2.3497 - 111ms/epoch - 871us/step\n",
      "Epoch 66/100\n",
      "127/127 - 0s - loss: 10.0412 - mean_absolute_error: 2.2125 - val_loss: 9.2797 - val_mean_absolute_error: 2.2075 - 104ms/epoch - 821us/step\n",
      "Epoch 67/100\n",
      "127/127 - 0s - loss: 9.2265 - mean_absolute_error: 2.1290 - val_loss: 8.5433 - val_mean_absolute_error: 2.1265 - 109ms/epoch - 856us/step\n",
      "Epoch 68/100\n",
      "127/127 - 0s - loss: 8.5073 - mean_absolute_error: 2.0623 - val_loss: 7.9497 - val_mean_absolute_error: 2.0409 - 106ms/epoch - 831us/step\n",
      "Epoch 69/100\n",
      "127/127 - 0s - loss: 7.9486 - mean_absolute_error: 1.9970 - val_loss: 7.3489 - val_mean_absolute_error: 1.9975 - 110ms/epoch - 866us/step\n",
      "Epoch 70/100\n",
      "127/127 - 0s - loss: 7.4037 - mean_absolute_error: 1.9454 - val_loss: 6.9304 - val_mean_absolute_error: 1.9219 - 111ms/epoch - 876us/step\n",
      "Epoch 71/100\n",
      "127/127 - 0s - loss: 6.9385 - mean_absolute_error: 1.8791 - val_loss: 6.4190 - val_mean_absolute_error: 1.8833 - 111ms/epoch - 873us/step\n",
      "Epoch 72/100\n",
      "127/127 - 0s - loss: 6.5005 - mean_absolute_error: 1.8336 - val_loss: 6.1103 - val_mean_absolute_error: 1.8166 - 103ms/epoch - 807us/step\n",
      "Epoch 73/100\n",
      "127/127 - 0s - loss: 6.1368 - mean_absolute_error: 1.7771 - val_loss: 5.5925 - val_mean_absolute_error: 1.7784 - 113ms/epoch - 889us/step\n",
      "Epoch 74/100\n",
      "127/127 - 0s - loss: 5.7873 - mean_absolute_error: 1.7298 - val_loss: 5.3141 - val_mean_absolute_error: 1.7454 - 110ms/epoch - 866us/step\n",
      "Epoch 75/100\n",
      "127/127 - 0s - loss: 5.4545 - mean_absolute_error: 1.6798 - val_loss: 4.9703 - val_mean_absolute_error: 1.6906 - 109ms/epoch - 860us/step\n",
      "Epoch 76/100\n",
      "127/127 - 0s - loss: 5.1761 - mean_absolute_error: 1.6362 - val_loss: 4.7135 - val_mean_absolute_error: 1.6518 - 104ms/epoch - 820us/step\n",
      "Epoch 77/100\n",
      "127/127 - 0s - loss: 4.9018 - mean_absolute_error: 1.5911 - val_loss: 4.4482 - val_mean_absolute_error: 1.6274 - 104ms/epoch - 820us/step\n",
      "Epoch 78/100\n",
      "127/127 - 0s - loss: 4.6466 - mean_absolute_error: 1.5545 - val_loss: 4.2392 - val_mean_absolute_error: 1.5735 - 104ms/epoch - 820us/step\n",
      "Epoch 79/100\n",
      "127/127 - 0s - loss: 4.4184 - mean_absolute_error: 1.5151 - val_loss: 4.0133 - val_mean_absolute_error: 1.5281 - 105ms/epoch - 829us/step\n",
      "Epoch 80/100\n",
      "127/127 - 0s - loss: 4.1800 - mean_absolute_error: 1.4762 - val_loss: 3.8049 - val_mean_absolute_error: 1.5204 - 106ms/epoch - 838us/step\n",
      "Epoch 81/100\n",
      "127/127 - 0s - loss: 3.9677 - mean_absolute_error: 1.4347 - val_loss: 3.5932 - val_mean_absolute_error: 1.4442 - 108ms/epoch - 850us/step\n",
      "Epoch 82/100\n",
      "127/127 - 0s - loss: 3.7748 - mean_absolute_error: 1.3959 - val_loss: 3.3903 - val_mean_absolute_error: 1.4106 - 113ms/epoch - 890us/step\n",
      "Epoch 83/100\n",
      "127/127 - 0s - loss: 3.5775 - mean_absolute_error: 1.3643 - val_loss: 3.3710 - val_mean_absolute_error: 1.3635 - 129ms/epoch - 1ms/step\n",
      "Epoch 84/100\n",
      "127/127 - 0s - loss: 3.4089 - mean_absolute_error: 1.3210 - val_loss: 3.0504 - val_mean_absolute_error: 1.3444 - 108ms/epoch - 850us/step\n",
      "Epoch 85/100\n",
      "127/127 - 0s - loss: 3.2225 - mean_absolute_error: 1.2833 - val_loss: 2.9125 - val_mean_absolute_error: 1.3170 - 109ms/epoch - 858us/step\n",
      "Epoch 86/100\n",
      "127/127 - 0s - loss: 3.0636 - mean_absolute_error: 1.2499 - val_loss: 2.8118 - val_mean_absolute_error: 1.2661 - 107ms/epoch - 843us/step\n",
      "Epoch 87/100\n",
      "127/127 - 0s - loss: 2.8999 - mean_absolute_error: 1.2098 - val_loss: 2.5804 - val_mean_absolute_error: 1.2045 - 106ms/epoch - 835us/step\n",
      "Epoch 88/100\n",
      "127/127 - 0s - loss: 2.7512 - mean_absolute_error: 1.1710 - val_loss: 2.4279 - val_mean_absolute_error: 1.1548 - 109ms/epoch - 858us/step\n",
      "Epoch 89/100\n",
      "127/127 - 0s - loss: 2.6158 - mean_absolute_error: 1.1220 - val_loss: 2.2645 - val_mean_absolute_error: 1.1121 - 109ms/epoch - 858us/step\n",
      "Epoch 90/100\n",
      "127/127 - 0s - loss: 2.4543 - mean_absolute_error: 1.0838 - val_loss: 2.1913 - val_mean_absolute_error: 1.0776 - 108ms/epoch - 850us/step\n",
      "Epoch 91/100\n",
      "127/127 - 0s - loss: 2.2960 - mean_absolute_error: 1.0370 - val_loss: 1.9398 - val_mean_absolute_error: 1.0122 - 107ms/epoch - 843us/step\n",
      "Epoch 92/100\n",
      "127/127 - 0s - loss: 2.1605 - mean_absolute_error: 0.9900 - val_loss: 1.8239 - val_mean_absolute_error: 0.9513 - 109ms/epoch - 858us/step\n",
      "Epoch 93/100\n",
      "127/127 - 0s - loss: 2.0001 - mean_absolute_error: 0.9407 - val_loss: 1.6920 - val_mean_absolute_error: 0.8842 - 109ms/epoch - 858us/step\n",
      "Epoch 94/100\n",
      "127/127 - 0s - loss: 1.8419 - mean_absolute_error: 0.8822 - val_loss: 1.4988 - val_mean_absolute_error: 0.8398 - 109ms/epoch - 858us/step\n",
      "Epoch 95/100\n",
      "127/127 - 0s - loss: 1.7030 - mean_absolute_error: 0.8287 - val_loss: 1.3979 - val_mean_absolute_error: 0.7741 - 111ms/epoch - 874us/step\n",
      "Epoch 96/100\n",
      "127/127 - 0s - loss: 1.5679 - mean_absolute_error: 0.7726 - val_loss: 1.2614 - val_mean_absolute_error: 0.7229 - 111ms/epoch - 874us/step\n",
      "Epoch 97/100\n",
      "127/127 - 0s - loss: 1.4171 - mean_absolute_error: 0.7178 - val_loss: 1.1268 - val_mean_absolute_error: 0.6848 - 108ms/epoch - 854us/step\n",
      "Epoch 98/100\n",
      "127/127 - 0s - loss: 1.2879 - mean_absolute_error: 0.6590 - val_loss: 1.0292 - val_mean_absolute_error: 0.6164 - 111ms/epoch - 875us/step\n",
      "Epoch 99/100\n",
      "127/127 - 0s - loss: 1.1636 - mean_absolute_error: 0.6044 - val_loss: 0.9187 - val_mean_absolute_error: 0.6009 - 118ms/epoch - 929us/step\n",
      "Epoch 100/100\n",
      "127/127 - 0s - loss: 1.0469 - mean_absolute_error: 0.5559 - val_loss: 0.8293 - val_mean_absolute_error: 0.5649 - 116ms/epoch - 913us/step\n",
      "time taken: 11.505104780197144\n"
     ]
    }
   ],
   "source": [
    "start_time = time.time()\n",
    "h_base = model_base.fit(X_train, y_train,\n",
    "                        epochs=epochs,\n",
    "                        batch_size=64,\n",
    "                        validation_split=0.1,\n",
    "                        verbose=2,\n",
    "                        callbacks=[callback]\n",
    "                       )\n",
    "print(\"time taken:\", time.time() - start_time)"
   ]
  },
  {
   "cell_type": "markdown",
   "metadata": {},
   "source": [
    "## Modest evaluation"
   ]
  },
  {
   "cell_type": "markdown",
   "metadata": {},
   "source": [
    "Metrics on hold-out test set"
   ]
  },
  {
   "cell_type": "code",
   "execution_count": 24,
   "metadata": {
    "colab": {
     "base_uri": "https://localhost:8080/"
    },
    "id": "1v9_TxHfrCra",
    "outputId": "e130fcd2-cade-4f28-d4f3-bdaa8e892a35"
   },
   "outputs": [
    {
     "name": "stdout",
     "output_type": "stream",
     "text": [
      "32/32 [==============================] - 0s 735us/step - loss: 0.8305 - mean_absolute_error: 0.5806\n",
      "32/32 [==============================] - 0s 734us/step - loss: 0.0415 - mean_absolute_error: 0.1362\n"
     ]
    }
   ],
   "source": [
    "model_base.evaluate(X_test, y_test)\n",
    "_= model_adaptive.evaluate(X_test, y_test)"
   ]
  },
  {
   "cell_type": "code",
   "execution_count": 25,
   "metadata": {
    "colab": {
     "base_uri": "https://localhost:8080/",
     "height": 447
    },
    "id": "GDoampn85d5s",
    "outputId": "defe961a-88aa-40e0-ed2b-34bde8157ac5"
   },
   "outputs": [
    {
     "data": {
      "text/plain": [
       "<matplotlib.legend.Legend at 0x1c11f917820>"
      ]
     },
     "execution_count": 25,
     "metadata": {},
     "output_type": "execute_result"
    },
    {
     "data": {
      "image/png": "[encoded data removed]",
      "text/plain": [
       "<Figure size 640x480 with 1 Axes>"
      ]
     },
     "metadata": {},
     "output_type": "display_data"
    }
   ],
   "source": [
    "plt.plot(h_base.history[\"val_mean_absolute_error\"],\n",
    "         \"-.\",\n",
    "         markersize=5,\n",
    "         label=\"base\"\n",
    "         )\n",
    "plt.plot(h_adaptive.history[\"val_mean_absolute_error\"],\n",
    "         \"-*\",\n",
    "         markersize=5,\n",
    "         label=\"adapter\")\n",
    "plt.legend()"
   ]
  },
  {
   "cell_type": "markdown",
   "metadata": {
    "id": "PkN-B65H8eo2"
   },
   "source": [
    "From the plot, the model with adapter layer reaches a plateau in less epochs than a model with no adapter, i.e. adapter may help in training, but the loss plateau values are fairly the same in both lines."
   ]
  },
  {
   "cell_type": "markdown",
   "metadata": {
    "id": "e1i_zllWtXel"
   },
   "source": [
    "### Check weights of the adapter parameter"
   ]
  },
  {
   "cell_type": "code",
   "execution_count": 20,
   "metadata": {
    "colab": {
     "base_uri": "https://localhost:8080/"
    },
    "id": "qTYUu3LzwL39",
    "outputId": "bcf1ee03-e4a1-41c8-ae74-08c199aad62e"
   },
   "outputs": [
    {
     "name": "stdout",
     "output_type": "stream",
     "text": [
      "count    16.000000\n",
      "mean      0.392613\n",
      "std       2.073518\n",
      "min      -2.639038\n",
      "25%      -1.764948\n",
      "50%       1.422731\n",
      "75%       2.100962\n",
      "max       2.655355\n",
      "Name: adapter, dtype: float64\n"
     ]
    },
    {
     "data": {
      "text/plain": [
       "<AxesSubplot: ylabel='Frequency'>"
      ]
     },
     "execution_count": 20,
     "metadata": {},
     "output_type": "execute_result"
    },
    {
     "data": {
      "image/png": "[encoded data removed]",
      "text/plain": [
       "<Figure size 640x480 with 1 Axes>"
      ]
     },
     "metadata": {},
     "output_type": "display_data"
    }
   ],
   "source": [
    "w_adapter = pd.Series(model_adaptive.weights[2].numpy(), name=\"adapter\")\n",
    "print(w_adapter.describe())\n",
    "w_adapter.plot(kind='hist', bins=10)"
   ]
  },
  {
   "cell_type": "code",
   "execution_count": null,
   "metadata": {},
   "outputs": [],
   "source": []
  }
 ],
 "metadata": {
  "colab": {
   "provenance": []
  },
  "kernelspec": {
   "display_name": "Python 3 (ipykernel)",
   "language": "python",
   "name": "python3"
  },
  "language_info": {
   "codemirror_mode": {
    "name": "ipython",
    "version": 3
   },
   "file_extension": ".py",
   "mimetype": "text/x-python",
   "name": "python",
   "nbconvert_exporter": "python",
   "pygments_lexer": "ipython3",
   "version": "3.9.18"
  }
 },
 "nbformat": 4,
 "nbformat_minor": 1
}
